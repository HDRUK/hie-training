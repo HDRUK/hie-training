{
 "cells": [
  {
   "cell_type": "markdown",
   "metadata": {},
   "source": [
    "<img src=\"./intro_images/MIE.PNG\" width=\"100%\" align=\"left\" />"
   ]
  },
  {
   "cell_type": "markdown",
   "metadata": {},
   "source": [
    "<table style=\"float:right;\">\n",
    "    <tr>\n",
    "        <td>                      \n",
    "            <div style=\"text-align: right\"><a href=\"https://alandavies.netlify.com\" target=\"_blank\">Dr Alan Davies</a></div>\n",
    "            <div style=\"text-align: right\">Lecturer health data science</div>\n",
    "            <div style=\"text-align: right\">University of Manchester</div>\n",
    "         </td>\n",
    "         <td>\n",
    "             <img src=\"https://github.com/i3hsInnovation/resources/blob/efa61022d0b8893200dad308f6590e694291f8c7/images/alan.PNG?raw=true\" width=\"30%\" />\n",
    "         </td>\n",
    "     </tr>\n",
    "</table>"
   ]
  },
  {
   "cell_type": "markdown",
   "metadata": {},
   "source": [
    "# Working with Data\n",
    "****"
   ]
  },
  {
   "cell_type": "markdown",
   "metadata": {},
   "source": [
    "#### About this Notebook\n",
    "This notebook introduces the importance of data management and quality especially when using machine learning algorithms.  It will also outline some key tools such as Python and SciKitLearn as well as introduce some useful functions to help you load, sort, filter and see the structure of your data.  <br/> This notebook is at <code>Beginner</code> level.\n"
   ]
  },
  {
   "cell_type": "markdown",
   "metadata": {},
   "source": [
    "<div class=\"alert alert-block alert-warning\"><b>Learning Objectives:</b> \n",
    "    \n",
    "- Explain the challenges and opportunities of big data \n",
    "    \n",
    "- Investigate the basic data manipulation stages required to pre-process data for use with machine learning algorithms\n",
    "\n",
    "- Explore some essential Machine Learning Python libraries to implement Machine Learning algorithms\n",
    "\n",
    "- Explain the rationale for choosing different algorithms\n",
    "\n",
    "</div> "
   ]
  },
  {
   "cell_type": "markdown",
   "metadata": {},
   "source": [
    "<a id=\"top\"></a>\n",
    "\n",
    "<b>Table of contents</b><br/>\n",
    "\n",
    "1.0 [Data Challenge](#datachallenge)\n",
    "\n",
    "2.0 [Data and machine learning](#dataandmachine)\n",
    "\n",
    "3.0 [Using Python](#python)\n",
    "\n",
    "4.0 [Data Visualisation](#datavisualisation)\n",
    "\n",
    "5.0 [Data Distribution and Transformation](#datadistribution)\n",
    "\n",
    "6.0 [Missing Values](#missingvalues)\n",
    "\n",
    "7.0 [Introducing SciKit Learn](#scikit)\n",
    "\n",
    "8.0 [Choosing an Algorithm](#Choosealgorithm)\n",
    "\n",
    "9.0 [References and Further Learning](#references)"
   ]
  },
  {
   "cell_type": "markdown",
   "metadata": {},
   "source": [
    "<a id=\"datachallenge\"></a>\n",
    "\n",
    "## The Data Challenge / Opportunity "
   ]
  },
  {
   "cell_type": "markdown",
   "metadata": {},
   "source": [
    "It has been quoted that:<br>\n",
    "<blockquote>\n",
    "    Data is the new oil.<br>\n",
    "       - <i>Clive Humby (2006)</i>\n",
    "</blockquote> \n",
    "This refers to the business value that is derived from the insights gained by applying data-driven analysis to data. This goes beyond the routine analytics of data toward mining the data for patterns and trends that can add real value to a business. What <code>value</code> actually is will depend on the business in question. For healthcare, this could be improved patient outcomes and safety among others. The amount of data that we now have available is increasing dramatically following the prevalence and ubiquity of digital technology. The graph below shows <code>exabytes</code> of data over time. One exabyte = one quintillion bytes ($10^{18}$ bytes). You can see the exponential increase from the year 2009 to 2020. The increase in computing power coupled with the growing amount of data provides us with new opportunities and challenges to make sense of this data and extract value from it."
   ]
  },
  {
   "cell_type": "markdown",
   "metadata": {},
   "source": [
    "<img src=\"./intro_images/datagrowth.jpeg\" width=\"60%\" align=\"center\" />"
   ]
  },
  {
   "cell_type": "markdown",
   "metadata": {},
   "source": [
    "Along with this <code>big data</code> come increasing challenges for its collection and analysis. Some traditional methods do not work well with the scale of data that is now available. These challenges can be defined as the 4 v's and include; <code>volume</code>, <code>variety</code>, <code>velocity</code> and <code>veracity</code>."
   ]
  },
  {
   "cell_type": "markdown",
   "metadata": {},
   "source": [
    "<img src=\"./intro_images/bigdata.jpg\" width=\"100%\" align=\"center\" />"
   ]
  },
  {
   "cell_type": "markdown",
   "metadata": {},
   "source": [
    "[Return to top](#top)\n",
    "\n",
    "\n",
    "----------\n",
    "\n",
    "\n",
    "<a id=\"dataandmachine\"></a>\n",
    "\n",
    "## Data and Machine Learning"
   ]
  },
  {
   "cell_type": "markdown",
   "metadata": {},
   "source": [
    "Modern Machine Learning methods are tools that can help with gaining insights from large volumes of data. To work with the various Machine Learning algorithms, you must first be able to manipulate data to ensure that data is in the right format to apply the various algorithms. We typically refer to data used as a <code>dataset</code>. Data can be <code>structured</code> where it is presented in a table like structure with rows and columns. Each row represents a unique record (<code>observation</code>) in the dataset. Data can also be <code>unstructured</code>. Unstructured data can include things like images, text and audio/visual recordings. For this introductory workshop we will be working with structured data. "
   ]
  },
  {
   "cell_type": "markdown",
   "metadata": {},
   "source": [
    "Below is a very small (made up) sample dataset. Here we have a set of <code>features</code> typically denoted with the capital letter <code>X</code>. We also have some <code>labels</code>. These are categories or classes of something (discrete labels) and are often represented with the lower case letter <code>y</code>. In this example we have several groups of people (group 1 or 2) and data on their <code>age</code>, <code>systolic blood pressure</code>, <code>sex</code> and a label that has 3 classes (low, medium and high)."
   ]
  },
  {
   "cell_type": "markdown",
   "metadata": {},
   "source": [
    "<img src=\"./intro_images/dataset.png\" align=\"left\" />"
   ]
  },
  {
   "cell_type": "markdown",
   "metadata": {},
   "source": [
    "Let's have a go at loading some real data. Here we will load some data about A&E (accident and emergency) Attendances and Emergency Admissions in 2019-20. This data is provided by <code>NHS England</code> and can viewed here <a href=\"https://www.england.nhs.uk/statistics/statistical-work-areas/ae-waiting-times-and-activity/ae-attendances-and-emergency-admissions-2019-20/\" target=\"_bank\">england.nhs.uk</a>. "
   ]
  },
  {
   "cell_type": "markdown",
   "metadata": {},
   "source": [
    "[Return to top](#top)\n",
    "\n",
    "------------\n",
    "\n",
    "\n",
    "\n",
    "<a id=\"python\"></a>\n",
    "\n",
    "## Using Python"
   ]
  },
  {
   "cell_type": "markdown",
   "metadata": {},
   "source": [
    "The programming language we will use for this workshop is <code>Python</code>. This is because a lot of the difficult work has already been done for us by others. Python has many pre-written libraries (modules) that have been programmed by others. We can import and use these libraries to save us having to write long and complicated code. There are currently over 221.000 Python libraries available to us that can be used for all kinds of tasks including Machine Learning and data processing. In fact most healthcare data scientists use either Python or R for analysis.  "
   ]
  },
  {
   "cell_type": "markdown",
   "metadata": {},
   "source": [
    "<div class=\"alert alert-success\">\n",
    "    <strong>Note:</strong> If you are interested in learning about which analysis and visualisation tools healthcare data scientists use, have a look at this paper: <a href=\"https://academic.oup.com/jamia/article/26/5/383/5369358\" target=\"_blank\">Healthcare data scientist qualifications, skills, and job focus: a content analysis of job postings</a>.\n",
    "</div>"
   ]
  },
  {
   "cell_type": "markdown",
   "metadata": {},
   "source": [
    "The data is in the form of a <code>CSV</code> file. This stands for <code>comma separated values</code>. We can use a Python library called <code>pandas</code> to load this type of file. "
   ]
  },
  {
   "cell_type": "code",
   "execution_count": 56,
   "metadata": {},
   "outputs": [],
   "source": [
    "import pandas as pd"
   ]
  },
  {
   "cell_type": "markdown",
   "metadata": {},
   "source": [
    "The code above loads this library. We can access various functions from the library by typing <code>pd</code> followed by a period (full stop) and the name of the function we want to use. In this case we will use the <code>read_csv()</code> function to load our CSV file. We can store this data in a variable which we will call <code>ae_dataset</code>, short for accident emergency dataset. "
   ]
  },
  {
   "cell_type": "markdown",
   "metadata": {},
   "source": [
    "<div class=\"alert alert-success\">\n",
    "    <strong>Note:</strong> There is <a href=\"https://pandas.pydata.org/Pandas_Cheat_Sheet.pdf\" target=\"_blank\">cheat sheet</a> for the Pandas library that you may find useful.\n",
    "</div>"
   ]
  },
  {
   "cell_type": "code",
   "execution_count": 57,
   "metadata": {},
   "outputs": [],
   "source": [
    "ae_dataset = pd.read_csv(\"./intro_images/January-2020-CSV-js7fh.csv\")"
   ]
  },
  {
   "cell_type": "markdown",
   "metadata": {},
   "source": [
    "Some datasets can be very large. In these cases we wouldn't want to view all the data, as this can take a long time to load. Instead we can view the <code>head</code> of the data. This shows us the first few records so that we can see the structure of the data. There is a useful function for doing this in the pandas library called <code>head()</code> which we use below to display the first few records in our dataset."
   ]
  },
  {
   "cell_type": "code",
   "execution_count": 58,
   "metadata": {},
   "outputs": [
    {
     "data": {
      "text/html": [
       "<div>\n",
       "<style scoped>\n",
       "    .dataframe tbody tr th:only-of-type {\n",
       "        vertical-align: middle;\n",
       "    }\n",
       "\n",
       "    .dataframe tbody tr th {\n",
       "        vertical-align: top;\n",
       "    }\n",
       "\n",
       "    .dataframe thead th {\n",
       "        text-align: right;\n",
       "    }\n",
       "</style>\n",
       "<table border=\"1\" class=\"dataframe\">\n",
       "  <thead>\n",
       "    <tr style=\"text-align: right;\">\n",
       "      <th></th>\n",
       "      <th>Period</th>\n",
       "      <th>Org Code</th>\n",
       "      <th>Parent Org</th>\n",
       "      <th>Org name</th>\n",
       "      <th>Number of A&amp;E attendances Type 1</th>\n",
       "      <th>Number of A&amp;E attendances Type 2</th>\n",
       "      <th>Number of A&amp;E attendances Other A&amp;E Department</th>\n",
       "      <th>Number of attendances over 4hrs Type 1</th>\n",
       "      <th>Number of attendances over 4hrs Type 2</th>\n",
       "      <th>Number of attendances over 4hrs Other A&amp;E Department</th>\n",
       "      <th>Patients who have waited 4-12 hs from DTA to admission</th>\n",
       "      <th>Patients who have waited 12+ hrs from DTA to admission</th>\n",
       "      <th>Emergency admissions via A&amp;E - Type 1</th>\n",
       "      <th>Emergency admissions via A&amp;E - Type 2</th>\n",
       "      <th>Emergency admissions via A&amp;E - Other A&amp;E department</th>\n",
       "      <th>Other emergency admissions</th>\n",
       "    </tr>\n",
       "  </thead>\n",
       "  <tbody>\n",
       "    <tr>\n",
       "      <th>0</th>\n",
       "      <td>MSitAE-JANUARY-2020</td>\n",
       "      <td>NR3</td>\n",
       "      <td>NHS ENGLAND MIDLANDS (NORTH MIDLANDS)</td>\n",
       "      <td>NOTTINGHAM CITYCARE PARTNERSHIP</td>\n",
       "      <td>0</td>\n",
       "      <td>0</td>\n",
       "      <td>5223</td>\n",
       "      <td>0</td>\n",
       "      <td>0</td>\n",
       "      <td>3</td>\n",
       "      <td>0</td>\n",
       "      <td>0</td>\n",
       "      <td>0</td>\n",
       "      <td>0</td>\n",
       "      <td>0</td>\n",
       "      <td>0</td>\n",
       "    </tr>\n",
       "    <tr>\n",
       "      <th>1</th>\n",
       "      <td>MSitAE-JANUARY-2020</td>\n",
       "      <td>RPC</td>\n",
       "      <td>NHS ENGLAND SOUTH EAST (KENT, SURREY AND SUSSEX)</td>\n",
       "      <td>QUEEN VICTORIA HOSPITAL NHS FOUNDATION TRUST</td>\n",
       "      <td>0</td>\n",
       "      <td>0</td>\n",
       "      <td>987</td>\n",
       "      <td>0</td>\n",
       "      <td>0</td>\n",
       "      <td>1</td>\n",
       "      <td>0</td>\n",
       "      <td>0</td>\n",
       "      <td>0</td>\n",
       "      <td>0</td>\n",
       "      <td>11</td>\n",
       "      <td>283</td>\n",
       "    </tr>\n",
       "    <tr>\n",
       "      <th>2</th>\n",
       "      <td>MSitAE-JANUARY-2020</td>\n",
       "      <td>NTV0W</td>\n",
       "      <td>NHS ENGLAND SOUTH EAST (KENT, SURREY AND SUSSEX)</td>\n",
       "      <td>WOKING WALK IN CENTRE</td>\n",
       "      <td>0</td>\n",
       "      <td>0</td>\n",
       "      <td>3322</td>\n",
       "      <td>0</td>\n",
       "      <td>0</td>\n",
       "      <td>2</td>\n",
       "      <td>0</td>\n",
       "      <td>0</td>\n",
       "      <td>0</td>\n",
       "      <td>0</td>\n",
       "      <td>0</td>\n",
       "      <td>0</td>\n",
       "    </tr>\n",
       "    <tr>\n",
       "      <th>3</th>\n",
       "      <td>MSitAE-JANUARY-2020</td>\n",
       "      <td>NTV0B</td>\n",
       "      <td>NHS ENGLAND SOUTH EAST (KENT, SURREY AND SUSSEX)</td>\n",
       "      <td>ASHFORD WALK-IN-CENTRE</td>\n",
       "      <td>0</td>\n",
       "      <td>0</td>\n",
       "      <td>3263</td>\n",
       "      <td>0</td>\n",
       "      <td>0</td>\n",
       "      <td>3</td>\n",
       "      <td>0</td>\n",
       "      <td>0</td>\n",
       "      <td>0</td>\n",
       "      <td>0</td>\n",
       "      <td>0</td>\n",
       "      <td>0</td>\n",
       "    </tr>\n",
       "    <tr>\n",
       "      <th>4</th>\n",
       "      <td>MSitAE-JANUARY-2020</td>\n",
       "      <td>Y02428</td>\n",
       "      <td>NHS ENGLAND EAST OF ENGLAND (EAST)</td>\n",
       "      <td>PUTNOE MEDICAL CENTRE WALK IN CENTRE</td>\n",
       "      <td>0</td>\n",
       "      <td>0</td>\n",
       "      <td>2075</td>\n",
       "      <td>0</td>\n",
       "      <td>0</td>\n",
       "      <td>0</td>\n",
       "      <td>0</td>\n",
       "      <td>0</td>\n",
       "      <td>0</td>\n",
       "      <td>0</td>\n",
       "      <td>0</td>\n",
       "      <td>0</td>\n",
       "    </tr>\n",
       "  </tbody>\n",
       "</table>\n",
       "</div>"
      ],
      "text/plain": [
       "                Period Org Code  \\\n",
       "0  MSitAE-JANUARY-2020      NR3   \n",
       "1  MSitAE-JANUARY-2020      RPC   \n",
       "2  MSitAE-JANUARY-2020    NTV0W   \n",
       "3  MSitAE-JANUARY-2020    NTV0B   \n",
       "4  MSitAE-JANUARY-2020   Y02428   \n",
       "\n",
       "                                         Parent Org  \\\n",
       "0             NHS ENGLAND MIDLANDS (NORTH MIDLANDS)   \n",
       "1  NHS ENGLAND SOUTH EAST (KENT, SURREY AND SUSSEX)   \n",
       "2  NHS ENGLAND SOUTH EAST (KENT, SURREY AND SUSSEX)   \n",
       "3  NHS ENGLAND SOUTH EAST (KENT, SURREY AND SUSSEX)   \n",
       "4                NHS ENGLAND EAST OF ENGLAND (EAST)   \n",
       "\n",
       "                                       Org name  \\\n",
       "0               NOTTINGHAM CITYCARE PARTNERSHIP   \n",
       "1  QUEEN VICTORIA HOSPITAL NHS FOUNDATION TRUST   \n",
       "2                         WOKING WALK IN CENTRE   \n",
       "3                        ASHFORD WALK-IN-CENTRE   \n",
       "4          PUTNOE MEDICAL CENTRE WALK IN CENTRE   \n",
       "\n",
       "   Number of A&E attendances Type 1  Number of A&E attendances Type 2  \\\n",
       "0                                 0                                 0   \n",
       "1                                 0                                 0   \n",
       "2                                 0                                 0   \n",
       "3                                 0                                 0   \n",
       "4                                 0                                 0   \n",
       "\n",
       "   Number of A&E attendances Other A&E Department  \\\n",
       "0                                            5223   \n",
       "1                                             987   \n",
       "2                                            3322   \n",
       "3                                            3263   \n",
       "4                                            2075   \n",
       "\n",
       "   Number of attendances over 4hrs Type 1  \\\n",
       "0                                       0   \n",
       "1                                       0   \n",
       "2                                       0   \n",
       "3                                       0   \n",
       "4                                       0   \n",
       "\n",
       "   Number of attendances over 4hrs Type 2  \\\n",
       "0                                       0   \n",
       "1                                       0   \n",
       "2                                       0   \n",
       "3                                       0   \n",
       "4                                       0   \n",
       "\n",
       "   Number of attendances over 4hrs Other A&E Department  \\\n",
       "0                                                  3      \n",
       "1                                                  1      \n",
       "2                                                  2      \n",
       "3                                                  3      \n",
       "4                                                  0      \n",
       "\n",
       "   Patients who have waited 4-12 hs from DTA to admission  \\\n",
       "0                                                  0        \n",
       "1                                                  0        \n",
       "2                                                  0        \n",
       "3                                                  0        \n",
       "4                                                  0        \n",
       "\n",
       "   Patients who have waited 12+ hrs from DTA to admission  \\\n",
       "0                                                  0        \n",
       "1                                                  0        \n",
       "2                                                  0        \n",
       "3                                                  0        \n",
       "4                                                  0        \n",
       "\n",
       "   Emergency admissions via A&E - Type 1  \\\n",
       "0                                      0   \n",
       "1                                      0   \n",
       "2                                      0   \n",
       "3                                      0   \n",
       "4                                      0   \n",
       "\n",
       "   Emergency admissions via A&E - Type 2  \\\n",
       "0                                      0   \n",
       "1                                      0   \n",
       "2                                      0   \n",
       "3                                      0   \n",
       "4                                      0   \n",
       "\n",
       "   Emergency admissions via A&E - Other A&E department  \\\n",
       "0                                                  0     \n",
       "1                                                 11     \n",
       "2                                                  0     \n",
       "3                                                  0     \n",
       "4                                                  0     \n",
       "\n",
       "   Other emergency admissions  \n",
       "0                           0  \n",
       "1                         283  \n",
       "2                           0  \n",
       "3                           0  \n",
       "4                           0  "
      ]
     },
     "execution_count": 58,
     "metadata": {},
     "output_type": "execute_result"
    }
   ],
   "source": [
    "ae_dataset.head()"
   ]
  },
  {
   "cell_type": "markdown",
   "metadata": {},
   "source": [
    "<div class=\"alert alert-success\">\n",
    "    <strong>Note:</strong> There is also a <code>tail()</code> function that works like the <code>head()</code> function only it returns the last n rows of the dataset rather than the first n. For example <code>ae_dataset.tail(5)</code> will output the last 5 rows of the dataset.\n",
    "</div>"
   ]
  },
  {
   "cell_type": "markdown",
   "metadata": {
    "solution2": "hidden",
    "solution2_first": true
   },
   "source": [
    "<div class=\"alert alert-block alert-info\">\n",
    "<b>Task 1:</b>\n",
    "<br> \n",
    "1. Have a look at the data presented above. <br>\n",
    "2. Have a look at the <a href=\"https://www.england.nhs.uk/statistics/wp-content/uploads/sites/2/2019/07/AE-Attendances-Emergency-Definitions-v4.0-final-July-2019.pdf\" target=\"_blank\">definitions</a> to try to understand what this data represents. <br/>\n",
    "3. Make a note of these definitions.<br>\n",
    "    4. Try outputting the head of data again using the <code>head()</code> function as above, only this time try adding a number between the brackets. What does this do?\n",
    "</div>"
   ]
  },
  {
   "cell_type": "code",
   "execution_count": 59,
   "metadata": {
    "solution2": "hidden"
   },
   "outputs": [
    {
     "data": {
      "text/html": [
       "<div>\n",
       "<style scoped>\n",
       "    .dataframe tbody tr th:only-of-type {\n",
       "        vertical-align: middle;\n",
       "    }\n",
       "\n",
       "    .dataframe tbody tr th {\n",
       "        vertical-align: top;\n",
       "    }\n",
       "\n",
       "    .dataframe thead th {\n",
       "        text-align: right;\n",
       "    }\n",
       "</style>\n",
       "<table border=\"1\" class=\"dataframe\">\n",
       "  <thead>\n",
       "    <tr style=\"text-align: right;\">\n",
       "      <th></th>\n",
       "      <th>Period</th>\n",
       "      <th>Org Code</th>\n",
       "      <th>Parent Org</th>\n",
       "      <th>Org name</th>\n",
       "      <th>Number of A&amp;E attendances Type 1</th>\n",
       "      <th>Number of A&amp;E attendances Type 2</th>\n",
       "      <th>Number of A&amp;E attendances Other A&amp;E Department</th>\n",
       "      <th>Number of attendances over 4hrs Type 1</th>\n",
       "      <th>Number of attendances over 4hrs Type 2</th>\n",
       "      <th>Number of attendances over 4hrs Other A&amp;E Department</th>\n",
       "      <th>Patients who have waited 4-12 hs from DTA to admission</th>\n",
       "      <th>Patients who have waited 12+ hrs from DTA to admission</th>\n",
       "      <th>Emergency admissions via A&amp;E - Type 1</th>\n",
       "      <th>Emergency admissions via A&amp;E - Type 2</th>\n",
       "      <th>Emergency admissions via A&amp;E - Other A&amp;E department</th>\n",
       "      <th>Other emergency admissions</th>\n",
       "    </tr>\n",
       "  </thead>\n",
       "  <tbody>\n",
       "    <tr>\n",
       "      <th>0</th>\n",
       "      <td>MSitAE-JANUARY-2020</td>\n",
       "      <td>NR3</td>\n",
       "      <td>NHS ENGLAND MIDLANDS (NORTH MIDLANDS)</td>\n",
       "      <td>NOTTINGHAM CITYCARE PARTNERSHIP</td>\n",
       "      <td>0</td>\n",
       "      <td>0</td>\n",
       "      <td>5223</td>\n",
       "      <td>0</td>\n",
       "      <td>0</td>\n",
       "      <td>3</td>\n",
       "      <td>0</td>\n",
       "      <td>0</td>\n",
       "      <td>0</td>\n",
       "      <td>0</td>\n",
       "      <td>0</td>\n",
       "      <td>0</td>\n",
       "    </tr>\n",
       "    <tr>\n",
       "      <th>1</th>\n",
       "      <td>MSitAE-JANUARY-2020</td>\n",
       "      <td>RPC</td>\n",
       "      <td>NHS ENGLAND SOUTH EAST (KENT, SURREY AND SUSSEX)</td>\n",
       "      <td>QUEEN VICTORIA HOSPITAL NHS FOUNDATION TRUST</td>\n",
       "      <td>0</td>\n",
       "      <td>0</td>\n",
       "      <td>987</td>\n",
       "      <td>0</td>\n",
       "      <td>0</td>\n",
       "      <td>1</td>\n",
       "      <td>0</td>\n",
       "      <td>0</td>\n",
       "      <td>0</td>\n",
       "      <td>0</td>\n",
       "      <td>11</td>\n",
       "      <td>283</td>\n",
       "    </tr>\n",
       "    <tr>\n",
       "      <th>2</th>\n",
       "      <td>MSitAE-JANUARY-2020</td>\n",
       "      <td>NTV0W</td>\n",
       "      <td>NHS ENGLAND SOUTH EAST (KENT, SURREY AND SUSSEX)</td>\n",
       "      <td>WOKING WALK IN CENTRE</td>\n",
       "      <td>0</td>\n",
       "      <td>0</td>\n",
       "      <td>3322</td>\n",
       "      <td>0</td>\n",
       "      <td>0</td>\n",
       "      <td>2</td>\n",
       "      <td>0</td>\n",
       "      <td>0</td>\n",
       "      <td>0</td>\n",
       "      <td>0</td>\n",
       "      <td>0</td>\n",
       "      <td>0</td>\n",
       "    </tr>\n",
       "    <tr>\n",
       "      <th>3</th>\n",
       "      <td>MSitAE-JANUARY-2020</td>\n",
       "      <td>NTV0B</td>\n",
       "      <td>NHS ENGLAND SOUTH EAST (KENT, SURREY AND SUSSEX)</td>\n",
       "      <td>ASHFORD WALK-IN-CENTRE</td>\n",
       "      <td>0</td>\n",
       "      <td>0</td>\n",
       "      <td>3263</td>\n",
       "      <td>0</td>\n",
       "      <td>0</td>\n",
       "      <td>3</td>\n",
       "      <td>0</td>\n",
       "      <td>0</td>\n",
       "      <td>0</td>\n",
       "      <td>0</td>\n",
       "      <td>0</td>\n",
       "      <td>0</td>\n",
       "    </tr>\n",
       "    <tr>\n",
       "      <th>4</th>\n",
       "      <td>MSitAE-JANUARY-2020</td>\n",
       "      <td>Y02428</td>\n",
       "      <td>NHS ENGLAND EAST OF ENGLAND (EAST)</td>\n",
       "      <td>PUTNOE MEDICAL CENTRE WALK IN CENTRE</td>\n",
       "      <td>0</td>\n",
       "      <td>0</td>\n",
       "      <td>2075</td>\n",
       "      <td>0</td>\n",
       "      <td>0</td>\n",
       "      <td>0</td>\n",
       "      <td>0</td>\n",
       "      <td>0</td>\n",
       "      <td>0</td>\n",
       "      <td>0</td>\n",
       "      <td>0</td>\n",
       "      <td>0</td>\n",
       "    </tr>\n",
       "    <tr>\n",
       "      <th>5</th>\n",
       "      <td>MSitAE-JANUARY-2020</td>\n",
       "      <td>NMH01</td>\n",
       "      <td>NHS ENGLAND EAST OF ENGLAND (EAST)</td>\n",
       "      <td>NORWICH PRACTICES LTD</td>\n",
       "      <td>0</td>\n",
       "      <td>0</td>\n",
       "      <td>5437</td>\n",
       "      <td>0</td>\n",
       "      <td>0</td>\n",
       "      <td>0</td>\n",
       "      <td>0</td>\n",
       "      <td>0</td>\n",
       "      <td>0</td>\n",
       "      <td>0</td>\n",
       "      <td>0</td>\n",
       "      <td>0</td>\n",
       "    </tr>\n",
       "    <tr>\n",
       "      <th>6</th>\n",
       "      <td>MSitAE-JANUARY-2020</td>\n",
       "      <td>C82038</td>\n",
       "      <td>NHS ENGLAND MIDLANDS (CENTRAL MIDLANDS)</td>\n",
       "      <td>LATHAM HOUSE MEDICAL PRACTICE</td>\n",
       "      <td>0</td>\n",
       "      <td>0</td>\n",
       "      <td>306</td>\n",
       "      <td>0</td>\n",
       "      <td>0</td>\n",
       "      <td>0</td>\n",
       "      <td>0</td>\n",
       "      <td>0</td>\n",
       "      <td>0</td>\n",
       "      <td>0</td>\n",
       "      <td>0</td>\n",
       "      <td>0</td>\n",
       "    </tr>\n",
       "    <tr>\n",
       "      <th>7</th>\n",
       "      <td>MSitAE-JANUARY-2020</td>\n",
       "      <td>RVY</td>\n",
       "      <td>NHS ENGLAND NORTH WEST (CHESHIRE AND MERSEYSIDE)</td>\n",
       "      <td>SOUTHPORT AND ORMSKIRK HOSPITAL NHS TRUST</td>\n",
       "      <td>7136</td>\n",
       "      <td>0</td>\n",
       "      <td>3131</td>\n",
       "      <td>1564</td>\n",
       "      <td>0</td>\n",
       "      <td>29</td>\n",
       "      <td>694</td>\n",
       "      <td>12</td>\n",
       "      <td>2743</td>\n",
       "      <td>0</td>\n",
       "      <td>0</td>\n",
       "      <td>92</td>\n",
       "    </tr>\n",
       "  </tbody>\n",
       "</table>\n",
       "</div>"
      ],
      "text/plain": [
       "                Period Org Code  \\\n",
       "0  MSitAE-JANUARY-2020      NR3   \n",
       "1  MSitAE-JANUARY-2020      RPC   \n",
       "2  MSitAE-JANUARY-2020    NTV0W   \n",
       "3  MSitAE-JANUARY-2020    NTV0B   \n",
       "4  MSitAE-JANUARY-2020   Y02428   \n",
       "5  MSitAE-JANUARY-2020    NMH01   \n",
       "6  MSitAE-JANUARY-2020   C82038   \n",
       "7  MSitAE-JANUARY-2020      RVY   \n",
       "\n",
       "                                         Parent Org  \\\n",
       "0             NHS ENGLAND MIDLANDS (NORTH MIDLANDS)   \n",
       "1  NHS ENGLAND SOUTH EAST (KENT, SURREY AND SUSSEX)   \n",
       "2  NHS ENGLAND SOUTH EAST (KENT, SURREY AND SUSSEX)   \n",
       "3  NHS ENGLAND SOUTH EAST (KENT, SURREY AND SUSSEX)   \n",
       "4                NHS ENGLAND EAST OF ENGLAND (EAST)   \n",
       "5                NHS ENGLAND EAST OF ENGLAND (EAST)   \n",
       "6           NHS ENGLAND MIDLANDS (CENTRAL MIDLANDS)   \n",
       "7  NHS ENGLAND NORTH WEST (CHESHIRE AND MERSEYSIDE)   \n",
       "\n",
       "                                       Org name  \\\n",
       "0               NOTTINGHAM CITYCARE PARTNERSHIP   \n",
       "1  QUEEN VICTORIA HOSPITAL NHS FOUNDATION TRUST   \n",
       "2                         WOKING WALK IN CENTRE   \n",
       "3                        ASHFORD WALK-IN-CENTRE   \n",
       "4          PUTNOE MEDICAL CENTRE WALK IN CENTRE   \n",
       "5                         NORWICH PRACTICES LTD   \n",
       "6                 LATHAM HOUSE MEDICAL PRACTICE   \n",
       "7     SOUTHPORT AND ORMSKIRK HOSPITAL NHS TRUST   \n",
       "\n",
       "   Number of A&E attendances Type 1  Number of A&E attendances Type 2  \\\n",
       "0                                 0                                 0   \n",
       "1                                 0                                 0   \n",
       "2                                 0                                 0   \n",
       "3                                 0                                 0   \n",
       "4                                 0                                 0   \n",
       "5                                 0                                 0   \n",
       "6                                 0                                 0   \n",
       "7                              7136                                 0   \n",
       "\n",
       "   Number of A&E attendances Other A&E Department  \\\n",
       "0                                            5223   \n",
       "1                                             987   \n",
       "2                                            3322   \n",
       "3                                            3263   \n",
       "4                                            2075   \n",
       "5                                            5437   \n",
       "6                                             306   \n",
       "7                                            3131   \n",
       "\n",
       "   Number of attendances over 4hrs Type 1  \\\n",
       "0                                       0   \n",
       "1                                       0   \n",
       "2                                       0   \n",
       "3                                       0   \n",
       "4                                       0   \n",
       "5                                       0   \n",
       "6                                       0   \n",
       "7                                    1564   \n",
       "\n",
       "   Number of attendances over 4hrs Type 2  \\\n",
       "0                                       0   \n",
       "1                                       0   \n",
       "2                                       0   \n",
       "3                                       0   \n",
       "4                                       0   \n",
       "5                                       0   \n",
       "6                                       0   \n",
       "7                                       0   \n",
       "\n",
       "   Number of attendances over 4hrs Other A&E Department  \\\n",
       "0                                                  3      \n",
       "1                                                  1      \n",
       "2                                                  2      \n",
       "3                                                  3      \n",
       "4                                                  0      \n",
       "5                                                  0      \n",
       "6                                                  0      \n",
       "7                                                 29      \n",
       "\n",
       "   Patients who have waited 4-12 hs from DTA to admission  \\\n",
       "0                                                  0        \n",
       "1                                                  0        \n",
       "2                                                  0        \n",
       "3                                                  0        \n",
       "4                                                  0        \n",
       "5                                                  0        \n",
       "6                                                  0        \n",
       "7                                                694        \n",
       "\n",
       "   Patients who have waited 12+ hrs from DTA to admission  \\\n",
       "0                                                  0        \n",
       "1                                                  0        \n",
       "2                                                  0        \n",
       "3                                                  0        \n",
       "4                                                  0        \n",
       "5                                                  0        \n",
       "6                                                  0        \n",
       "7                                                 12        \n",
       "\n",
       "   Emergency admissions via A&E - Type 1  \\\n",
       "0                                      0   \n",
       "1                                      0   \n",
       "2                                      0   \n",
       "3                                      0   \n",
       "4                                      0   \n",
       "5                                      0   \n",
       "6                                      0   \n",
       "7                                   2743   \n",
       "\n",
       "   Emergency admissions via A&E - Type 2  \\\n",
       "0                                      0   \n",
       "1                                      0   \n",
       "2                                      0   \n",
       "3                                      0   \n",
       "4                                      0   \n",
       "5                                      0   \n",
       "6                                      0   \n",
       "7                                      0   \n",
       "\n",
       "   Emergency admissions via A&E - Other A&E department  \\\n",
       "0                                                  0     \n",
       "1                                                 11     \n",
       "2                                                  0     \n",
       "3                                                  0     \n",
       "4                                                  0     \n",
       "5                                                  0     \n",
       "6                                                  0     \n",
       "7                                                  0     \n",
       "\n",
       "   Other emergency admissions  \n",
       "0                           0  \n",
       "1                         283  \n",
       "2                           0  \n",
       "3                           0  \n",
       "4                           0  \n",
       "5                           0  \n",
       "6                           0  \n",
       "7                          92  "
      ]
     },
     "execution_count": 59,
     "metadata": {},
     "output_type": "execute_result"
    }
   ],
   "source": [
    "ae_dataset.head(8)"
   ]
  },
  {
   "cell_type": "markdown",
   "metadata": {
    "solution2": "hidden"
   },
   "source": [
    "It outputs the number of records you specify by passing in a number as a parameter to the function. Note this starts at 0 and not 1. So 8 records will be 0 - 7. "
   ]
  },
  {
   "cell_type": "code",
   "execution_count": 60,
   "metadata": {},
   "outputs": [
    {
     "data": {
      "text/html": [
       "<div>\n",
       "<style scoped>\n",
       "    .dataframe tbody tr th:only-of-type {\n",
       "        vertical-align: middle;\n",
       "    }\n",
       "\n",
       "    .dataframe tbody tr th {\n",
       "        vertical-align: top;\n",
       "    }\n",
       "\n",
       "    .dataframe thead th {\n",
       "        text-align: right;\n",
       "    }\n",
       "</style>\n",
       "<table border=\"1\" class=\"dataframe\">\n",
       "  <thead>\n",
       "    <tr style=\"text-align: right;\">\n",
       "      <th></th>\n",
       "      <th>Period</th>\n",
       "      <th>Org Code</th>\n",
       "      <th>Parent Org</th>\n",
       "      <th>Org name</th>\n",
       "      <th>Number of A&amp;E attendances Type 1</th>\n",
       "      <th>Number of A&amp;E attendances Type 2</th>\n",
       "      <th>Number of A&amp;E attendances Other A&amp;E Department</th>\n",
       "      <th>Number of attendances over 4hrs Type 1</th>\n",
       "      <th>Number of attendances over 4hrs Type 2</th>\n",
       "      <th>Number of attendances over 4hrs Other A&amp;E Department</th>\n",
       "      <th>Patients who have waited 4-12 hs from DTA to admission</th>\n",
       "      <th>Patients who have waited 12+ hrs from DTA to admission</th>\n",
       "      <th>Emergency admissions via A&amp;E - Type 1</th>\n",
       "      <th>Emergency admissions via A&amp;E - Type 2</th>\n",
       "      <th>Emergency admissions via A&amp;E - Other A&amp;E department</th>\n",
       "      <th>Other emergency admissions</th>\n",
       "    </tr>\n",
       "  </thead>\n",
       "  <tbody>\n",
       "    <tr>\n",
       "      <th>0</th>\n",
       "      <td>MSitAE-JANUARY-2020</td>\n",
       "      <td>NR3</td>\n",
       "      <td>NHS ENGLAND MIDLANDS (NORTH MIDLANDS)</td>\n",
       "      <td>NOTTINGHAM CITYCARE PARTNERSHIP</td>\n",
       "      <td>0</td>\n",
       "      <td>0</td>\n",
       "      <td>5223</td>\n",
       "      <td>0</td>\n",
       "      <td>0</td>\n",
       "      <td>3</td>\n",
       "      <td>0</td>\n",
       "      <td>0</td>\n",
       "      <td>0</td>\n",
       "      <td>0</td>\n",
       "      <td>0</td>\n",
       "      <td>0</td>\n",
       "    </tr>\n",
       "    <tr>\n",
       "      <th>1</th>\n",
       "      <td>MSitAE-JANUARY-2020</td>\n",
       "      <td>RPC</td>\n",
       "      <td>NHS ENGLAND SOUTH EAST (KENT, SURREY AND SUSSEX)</td>\n",
       "      <td>QUEEN VICTORIA HOSPITAL NHS FOUNDATION TRUST</td>\n",
       "      <td>0</td>\n",
       "      <td>0</td>\n",
       "      <td>987</td>\n",
       "      <td>0</td>\n",
       "      <td>0</td>\n",
       "      <td>1</td>\n",
       "      <td>0</td>\n",
       "      <td>0</td>\n",
       "      <td>0</td>\n",
       "      <td>0</td>\n",
       "      <td>11</td>\n",
       "      <td>283</td>\n",
       "    </tr>\n",
       "    <tr>\n",
       "      <th>2</th>\n",
       "      <td>MSitAE-JANUARY-2020</td>\n",
       "      <td>NTV0W</td>\n",
       "      <td>NHS ENGLAND SOUTH EAST (KENT, SURREY AND SUSSEX)</td>\n",
       "      <td>WOKING WALK IN CENTRE</td>\n",
       "      <td>0</td>\n",
       "      <td>0</td>\n",
       "      <td>3322</td>\n",
       "      <td>0</td>\n",
       "      <td>0</td>\n",
       "      <td>2</td>\n",
       "      <td>0</td>\n",
       "      <td>0</td>\n",
       "      <td>0</td>\n",
       "      <td>0</td>\n",
       "      <td>0</td>\n",
       "      <td>0</td>\n",
       "    </tr>\n",
       "    <tr>\n",
       "      <th>3</th>\n",
       "      <td>MSitAE-JANUARY-2020</td>\n",
       "      <td>NTV0B</td>\n",
       "      <td>NHS ENGLAND SOUTH EAST (KENT, SURREY AND SUSSEX)</td>\n",
       "      <td>ASHFORD WALK-IN-CENTRE</td>\n",
       "      <td>0</td>\n",
       "      <td>0</td>\n",
       "      <td>3263</td>\n",
       "      <td>0</td>\n",
       "      <td>0</td>\n",
       "      <td>3</td>\n",
       "      <td>0</td>\n",
       "      <td>0</td>\n",
       "      <td>0</td>\n",
       "      <td>0</td>\n",
       "      <td>0</td>\n",
       "      <td>0</td>\n",
       "    </tr>\n",
       "    <tr>\n",
       "      <th>4</th>\n",
       "      <td>MSitAE-JANUARY-2020</td>\n",
       "      <td>Y02428</td>\n",
       "      <td>NHS ENGLAND EAST OF ENGLAND (EAST)</td>\n",
       "      <td>PUTNOE MEDICAL CENTRE WALK IN CENTRE</td>\n",
       "      <td>0</td>\n",
       "      <td>0</td>\n",
       "      <td>2075</td>\n",
       "      <td>0</td>\n",
       "      <td>0</td>\n",
       "      <td>0</td>\n",
       "      <td>0</td>\n",
       "      <td>0</td>\n",
       "      <td>0</td>\n",
       "      <td>0</td>\n",
       "      <td>0</td>\n",
       "      <td>0</td>\n",
       "    </tr>\n",
       "  </tbody>\n",
       "</table>\n",
       "</div>"
      ],
      "text/plain": [
       "                Period Org Code  \\\n",
       "0  MSitAE-JANUARY-2020      NR3   \n",
       "1  MSitAE-JANUARY-2020      RPC   \n",
       "2  MSitAE-JANUARY-2020    NTV0W   \n",
       "3  MSitAE-JANUARY-2020    NTV0B   \n",
       "4  MSitAE-JANUARY-2020   Y02428   \n",
       "\n",
       "                                         Parent Org  \\\n",
       "0             NHS ENGLAND MIDLANDS (NORTH MIDLANDS)   \n",
       "1  NHS ENGLAND SOUTH EAST (KENT, SURREY AND SUSSEX)   \n",
       "2  NHS ENGLAND SOUTH EAST (KENT, SURREY AND SUSSEX)   \n",
       "3  NHS ENGLAND SOUTH EAST (KENT, SURREY AND SUSSEX)   \n",
       "4                NHS ENGLAND EAST OF ENGLAND (EAST)   \n",
       "\n",
       "                                       Org name  \\\n",
       "0               NOTTINGHAM CITYCARE PARTNERSHIP   \n",
       "1  QUEEN VICTORIA HOSPITAL NHS FOUNDATION TRUST   \n",
       "2                         WOKING WALK IN CENTRE   \n",
       "3                        ASHFORD WALK-IN-CENTRE   \n",
       "4          PUTNOE MEDICAL CENTRE WALK IN CENTRE   \n",
       "\n",
       "   Number of A&E attendances Type 1  Number of A&E attendances Type 2  \\\n",
       "0                                 0                                 0   \n",
       "1                                 0                                 0   \n",
       "2                                 0                                 0   \n",
       "3                                 0                                 0   \n",
       "4                                 0                                 0   \n",
       "\n",
       "   Number of A&E attendances Other A&E Department  \\\n",
       "0                                            5223   \n",
       "1                                             987   \n",
       "2                                            3322   \n",
       "3                                            3263   \n",
       "4                                            2075   \n",
       "\n",
       "   Number of attendances over 4hrs Type 1  \\\n",
       "0                                       0   \n",
       "1                                       0   \n",
       "2                                       0   \n",
       "3                                       0   \n",
       "4                                       0   \n",
       "\n",
       "   Number of attendances over 4hrs Type 2  \\\n",
       "0                                       0   \n",
       "1                                       0   \n",
       "2                                       0   \n",
       "3                                       0   \n",
       "4                                       0   \n",
       "\n",
       "   Number of attendances over 4hrs Other A&E Department  \\\n",
       "0                                                  3      \n",
       "1                                                  1      \n",
       "2                                                  2      \n",
       "3                                                  3      \n",
       "4                                                  0      \n",
       "\n",
       "   Patients who have waited 4-12 hs from DTA to admission  \\\n",
       "0                                                  0        \n",
       "1                                                  0        \n",
       "2                                                  0        \n",
       "3                                                  0        \n",
       "4                                                  0        \n",
       "\n",
       "   Patients who have waited 12+ hrs from DTA to admission  \\\n",
       "0                                                  0        \n",
       "1                                                  0        \n",
       "2                                                  0        \n",
       "3                                                  0        \n",
       "4                                                  0        \n",
       "\n",
       "   Emergency admissions via A&E - Type 1  \\\n",
       "0                                      0   \n",
       "1                                      0   \n",
       "2                                      0   \n",
       "3                                      0   \n",
       "4                                      0   \n",
       "\n",
       "   Emergency admissions via A&E - Type 2  \\\n",
       "0                                      0   \n",
       "1                                      0   \n",
       "2                                      0   \n",
       "3                                      0   \n",
       "4                                      0   \n",
       "\n",
       "   Emergency admissions via A&E - Other A&E department  \\\n",
       "0                                                  0     \n",
       "1                                                 11     \n",
       "2                                                  0     \n",
       "3                                                  0     \n",
       "4                                                  0     \n",
       "\n",
       "   Other emergency admissions  \n",
       "0                           0  \n",
       "1                         283  \n",
       "2                           0  \n",
       "3                           0  \n",
       "4                           0  "
      ]
     },
     "execution_count": 60,
     "metadata": {},
     "output_type": "execute_result"
    }
   ],
   "source": [
    "ae_dataset.head(5)"
   ]
  },
  {
   "cell_type": "markdown",
   "metadata": {},
   "source": [
    "Once we have some understanding of the data, we can also look at some other properties of the data. Such as the number of observations in the dataset. We can do this with the length function <code>len()</code> which is short for <strong>length</strong> like so:"
   ]
  },
  {
   "cell_type": "code",
   "execution_count": 61,
   "metadata": {},
   "outputs": [
    {
     "data": {
      "text/plain": [
       "232"
      ]
     },
     "execution_count": 61,
     "metadata": {},
     "output_type": "execute_result"
    }
   ],
   "source": [
    "len(ae_dataset)"
   ]
  },
  {
   "cell_type": "markdown",
   "metadata": {},
   "source": [
    "This means that there are 232 observations (records) in the dataset."
   ]
  },
  {
   "cell_type": "markdown",
   "metadata": {},
   "source": [
    "Another option is to view the <code>shape</code> of the data set that shows the number of rows (232) and columns (16)."
   ]
  },
  {
   "cell_type": "code",
   "execution_count": 62,
   "metadata": {},
   "outputs": [
    {
     "data": {
      "text/plain": [
       "(232, 16)"
      ]
     },
     "execution_count": 62,
     "metadata": {},
     "output_type": "execute_result"
    }
   ],
   "source": [
    "ae_dataset.shape"
   ]
  },
  {
   "cell_type": "markdown",
   "metadata": {},
   "source": [
    "Two other useful functions are <code>info()</code> and <code>nunique()</code>. Info will provide an overview of the dataset."
   ]
  },
  {
   "cell_type": "code",
   "execution_count": 63,
   "metadata": {},
   "outputs": [
    {
     "name": "stdout",
     "output_type": "stream",
     "text": [
      "<class 'pandas.core.frame.DataFrame'>\n",
      "RangeIndex: 232 entries, 0 to 231\n",
      "Data columns (total 16 columns):\n",
      " #   Column                                                  Non-Null Count  Dtype \n",
      "---  ------                                                  --------------  ----- \n",
      " 0   Period                                                  232 non-null    object\n",
      " 1   Org Code                                                232 non-null    object\n",
      " 2   Parent Org                                              231 non-null    object\n",
      " 3   Org name                                                232 non-null    object\n",
      " 4   Number of A&E attendances Type 1                        232 non-null    int64 \n",
      " 5   Number of A&E attendances Type 2                        232 non-null    int64 \n",
      " 6   Number of A&E attendances Other A&E Department          232 non-null    int64 \n",
      " 7   Number of attendances over 4hrs Type 1                  232 non-null    int64 \n",
      " 8   Number of attendances over 4hrs Type 2                  232 non-null    int64 \n",
      " 9   Number of attendances over 4hrs Other A&E Department    232 non-null    int64 \n",
      " 10  Patients who have waited 4-12 hs from DTA to admission  232 non-null    int64 \n",
      " 11  Patients who have waited 12+ hrs from DTA to admission  232 non-null    int64 \n",
      " 12  Emergency admissions via A&E - Type 1                   232 non-null    int64 \n",
      " 13  Emergency admissions via A&E - Type 2                   232 non-null    int64 \n",
      " 14  Emergency admissions via A&E - Other A&E department     232 non-null    int64 \n",
      " 15  Other emergency admissions                              232 non-null    int64 \n",
      "dtypes: int64(12), object(4)\n",
      "memory usage: 29.1+ KB\n"
     ]
    }
   ],
   "source": [
    "ae_dataset.info()"
   ]
  },
  {
   "cell_type": "markdown",
   "metadata": {},
   "source": [
    "The nunique function will tell you the number of unique observations in each column."
   ]
  },
  {
   "cell_type": "code",
   "execution_count": 64,
   "metadata": {},
   "outputs": [
    {
     "data": {
      "text/plain": [
       "Period                                                      2\n",
       "Org Code                                                  232\n",
       "Parent Org                                                 15\n",
       "Org name                                                  231\n",
       "Number of A&E attendances Type 1                          134\n",
       "Number of A&E attendances Type 2                           35\n",
       "Number of A&E attendances Other A&E Department            188\n",
       "Number of attendances over 4hrs Type 1                    118\n",
       "Number of attendances over 4hrs Type 2                     18\n",
       "Number of attendances over 4hrs Other A&E Department       71\n",
       "Patients who have waited 4-12 hs from DTA to admission    125\n",
       "Patients who have waited 12+ hrs from DTA to admission     41\n",
       "Emergency admissions via A&E - Type 1                     133\n",
       "Emergency admissions via A&E - Type 2                      18\n",
       "Emergency admissions via A&E - Other A&E department        29\n",
       "Other emergency admissions                                148\n",
       "dtype: int64"
      ]
     },
     "execution_count": 64,
     "metadata": {},
     "output_type": "execute_result"
    }
   ],
   "source": [
    "ae_dataset.nunique()"
   ]
  },
  {
   "cell_type": "markdown",
   "metadata": {},
   "source": [
    "When dealing with <code>categorical</code> data (data in categories), you can inspect the column by placing the column name in square brackets and quotation marks and then apply the <code>value_counts()</code> function. This will show you how many times a certain value occurs in the data."
   ]
  },
  {
   "cell_type": "code",
   "execution_count": 65,
   "metadata": {},
   "outputs": [
    {
     "data": {
      "text/plain": [
       "DR LOCAL CARE DIRECT OOH                              2\n",
       "NORTH TEES AND HARTLEPOOL NHS FOUNDATION TRUST        1\n",
       "ROYAL NATIONAL ORTHOPAEDIC HOSPITAL NHS TRUST         1\n",
       "SHREWSBURY AND TELFORD HOSPITAL NHS TRUST             1\n",
       "MARKET HARBOROUGH MED.CTR                             1\n",
       "                                                     ..\n",
       "THE PINN UNREGISTERED WIC                             1\n",
       "EAST SUFFOLK AND NORTH ESSEX NHS FOUNDATION TRUST     1\n",
       "CROYDON HEALTH SERVICES NHS TRUST                     1\n",
       "SOUTH TYNESIDE AND SUNDERLAND NHS FOUNDATION TRUST    1\n",
       "EAST CHESHIRE NHS TRUST                               1\n",
       "Name: Org name, Length: 231, dtype: int64"
      ]
     },
     "execution_count": 65,
     "metadata": {},
     "output_type": "execute_result"
    }
   ],
   "source": [
    "ae_dataset['Org name'].value_counts()"
   ]
  },
  {
   "cell_type": "markdown",
   "metadata": {},
   "source": [
    "For analysis and modeling of data, you may only be interest in a portion of the relevant data. For this we need to extract a <code>subset</code> of the data. Let's say we are only interested in the number of <code>Type 1</code> attendances that are greater than 0 for particular organizations. We can extract just the columns or features we are interested in by specifying them by name within quotation marks (this denotes a text string [text data] in Python). Here we extract just the columns <code>Org name</code> and <code>Number of A&amp;E attendances Type 1</code>."
   ]
  },
  {
   "cell_type": "code",
   "execution_count": 66,
   "metadata": {},
   "outputs": [],
   "source": [
    "type1 = ae_dataset[[\"Org name\", \"Number of A&E attendances Type 1\"]]"
   ]
  },
  {
   "cell_type": "code",
   "execution_count": 67,
   "metadata": {},
   "outputs": [
    {
     "data": {
      "text/html": [
       "<div>\n",
       "<style scoped>\n",
       "    .dataframe tbody tr th:only-of-type {\n",
       "        vertical-align: middle;\n",
       "    }\n",
       "\n",
       "    .dataframe tbody tr th {\n",
       "        vertical-align: top;\n",
       "    }\n",
       "\n",
       "    .dataframe thead th {\n",
       "        text-align: right;\n",
       "    }\n",
       "</style>\n",
       "<table border=\"1\" class=\"dataframe\">\n",
       "  <thead>\n",
       "    <tr style=\"text-align: right;\">\n",
       "      <th></th>\n",
       "      <th>Org name</th>\n",
       "      <th>Number of A&amp;E attendances Type 1</th>\n",
       "    </tr>\n",
       "  </thead>\n",
       "  <tbody>\n",
       "    <tr>\n",
       "      <th>0</th>\n",
       "      <td>NOTTINGHAM CITYCARE PARTNERSHIP</td>\n",
       "      <td>0</td>\n",
       "    </tr>\n",
       "    <tr>\n",
       "      <th>1</th>\n",
       "      <td>QUEEN VICTORIA HOSPITAL NHS FOUNDATION TRUST</td>\n",
       "      <td>0</td>\n",
       "    </tr>\n",
       "    <tr>\n",
       "      <th>2</th>\n",
       "      <td>WOKING WALK IN CENTRE</td>\n",
       "      <td>0</td>\n",
       "    </tr>\n",
       "    <tr>\n",
       "      <th>3</th>\n",
       "      <td>ASHFORD WALK-IN-CENTRE</td>\n",
       "      <td>0</td>\n",
       "    </tr>\n",
       "    <tr>\n",
       "      <th>4</th>\n",
       "      <td>PUTNOE MEDICAL CENTRE WALK IN CENTRE</td>\n",
       "      <td>0</td>\n",
       "    </tr>\n",
       "    <tr>\n",
       "      <th>5</th>\n",
       "      <td>NORWICH PRACTICES LTD</td>\n",
       "      <td>0</td>\n",
       "    </tr>\n",
       "    <tr>\n",
       "      <th>6</th>\n",
       "      <td>LATHAM HOUSE MEDICAL PRACTICE</td>\n",
       "      <td>0</td>\n",
       "    </tr>\n",
       "    <tr>\n",
       "      <th>7</th>\n",
       "      <td>SOUTHPORT AND ORMSKIRK HOSPITAL NHS TRUST</td>\n",
       "      <td>7136</td>\n",
       "    </tr>\n",
       "    <tr>\n",
       "      <th>8</th>\n",
       "      <td>WORKINGTON HEALTH LIMITED</td>\n",
       "      <td>0</td>\n",
       "    </tr>\n",
       "    <tr>\n",
       "      <th>9</th>\n",
       "      <td>GLOUCESTERSHIRE HEALTH AND CARE NHS FOUNDATION...</td>\n",
       "      <td>0</td>\n",
       "    </tr>\n",
       "  </tbody>\n",
       "</table>\n",
       "</div>"
      ],
      "text/plain": [
       "                                            Org name  \\\n",
       "0                    NOTTINGHAM CITYCARE PARTNERSHIP   \n",
       "1       QUEEN VICTORIA HOSPITAL NHS FOUNDATION TRUST   \n",
       "2                              WOKING WALK IN CENTRE   \n",
       "3                             ASHFORD WALK-IN-CENTRE   \n",
       "4               PUTNOE MEDICAL CENTRE WALK IN CENTRE   \n",
       "5                              NORWICH PRACTICES LTD   \n",
       "6                      LATHAM HOUSE MEDICAL PRACTICE   \n",
       "7          SOUTHPORT AND ORMSKIRK HOSPITAL NHS TRUST   \n",
       "8                          WORKINGTON HEALTH LIMITED   \n",
       "9  GLOUCESTERSHIRE HEALTH AND CARE NHS FOUNDATION...   \n",
       "\n",
       "   Number of A&E attendances Type 1  \n",
       "0                                 0  \n",
       "1                                 0  \n",
       "2                                 0  \n",
       "3                                 0  \n",
       "4                                 0  \n",
       "5                                 0  \n",
       "6                                 0  \n",
       "7                              7136  \n",
       "8                                 0  \n",
       "9                                 0  "
      ]
     },
     "execution_count": 67,
     "metadata": {},
     "output_type": "execute_result"
    }
   ],
   "source": [
    "type1.head(10)"
   ]
  },
  {
   "cell_type": "markdown",
   "metadata": {},
   "source": [
    "We can also <code>query</code> and <code>filter</code> the data. For example I could choose to extract all results where there were more than (>) zero admissions. I can use this to filter the data and view the head of the data as before."
   ]
  },
  {
   "cell_type": "code",
   "execution_count": 68,
   "metadata": {},
   "outputs": [],
   "source": [
    "gt_zero_admissions = type1[\"Number of A&E attendances Type 1\"] > 0"
   ]
  },
  {
   "cell_type": "code",
   "execution_count": 69,
   "metadata": {},
   "outputs": [],
   "source": [
    "type1_filtered = type1[gt_zero_admissions]"
   ]
  },
  {
   "cell_type": "code",
   "execution_count": 70,
   "metadata": {},
   "outputs": [
    {
     "data": {
      "text/html": [
       "<div>\n",
       "<style scoped>\n",
       "    .dataframe tbody tr th:only-of-type {\n",
       "        vertical-align: middle;\n",
       "    }\n",
       "\n",
       "    .dataframe tbody tr th {\n",
       "        vertical-align: top;\n",
       "    }\n",
       "\n",
       "    .dataframe thead th {\n",
       "        text-align: right;\n",
       "    }\n",
       "</style>\n",
       "<table border=\"1\" class=\"dataframe\">\n",
       "  <thead>\n",
       "    <tr style=\"text-align: right;\">\n",
       "      <th></th>\n",
       "      <th>Org name</th>\n",
       "      <th>Number of A&amp;E attendances Type 1</th>\n",
       "    </tr>\n",
       "  </thead>\n",
       "  <tbody>\n",
       "    <tr>\n",
       "      <th>7</th>\n",
       "      <td>SOUTHPORT AND ORMSKIRK HOSPITAL NHS TRUST</td>\n",
       "      <td>7136</td>\n",
       "    </tr>\n",
       "    <tr>\n",
       "      <th>12</th>\n",
       "      <td>NORTH MIDDLESEX UNIVERSITY HOSPITAL NHS TRUST</td>\n",
       "      <td>9432</td>\n",
       "    </tr>\n",
       "    <tr>\n",
       "      <th>25</th>\n",
       "      <td>HULL UNIVERSITY TEACHING HOSPITALS NHS TRUST</td>\n",
       "      <td>10922</td>\n",
       "    </tr>\n",
       "    <tr>\n",
       "      <th>27</th>\n",
       "      <td>NORTHERN DEVON HEALTHCARE NHS TRUST</td>\n",
       "      <td>3743</td>\n",
       "    </tr>\n",
       "    <tr>\n",
       "      <th>32</th>\n",
       "      <td>BLACKPOOL TEACHING HOSPITALS NHS FOUNDATION TRUST</td>\n",
       "      <td>5916</td>\n",
       "    </tr>\n",
       "    <tr>\n",
       "      <th>33</th>\n",
       "      <td>YEOVIL DISTRICT HOSPITAL NHS FOUNDATION TRUST</td>\n",
       "      <td>4773</td>\n",
       "    </tr>\n",
       "    <tr>\n",
       "      <th>34</th>\n",
       "      <td>BRIGHTON AND SUSSEX UNIVERSITY HOSPITALS NHS T...</td>\n",
       "      <td>13574</td>\n",
       "    </tr>\n",
       "    <tr>\n",
       "      <th>39</th>\n",
       "      <td>NORTH WEST ANGLIA NHS FOUNDATION TRUST</td>\n",
       "      <td>13366</td>\n",
       "    </tr>\n",
       "    <tr>\n",
       "      <th>43</th>\n",
       "      <td>POOLE HOSPITAL NHS FOUNDATION TRUST</td>\n",
       "      <td>5687</td>\n",
       "    </tr>\n",
       "    <tr>\n",
       "      <th>45</th>\n",
       "      <td>JAMES PAGET UNIVERSITY HOSPITALS NHS FOUNDATIO...</td>\n",
       "      <td>6465</td>\n",
       "    </tr>\n",
       "  </tbody>\n",
       "</table>\n",
       "</div>"
      ],
      "text/plain": [
       "                                             Org name  \\\n",
       "7           SOUTHPORT AND ORMSKIRK HOSPITAL NHS TRUST   \n",
       "12      NORTH MIDDLESEX UNIVERSITY HOSPITAL NHS TRUST   \n",
       "25       HULL UNIVERSITY TEACHING HOSPITALS NHS TRUST   \n",
       "27                NORTHERN DEVON HEALTHCARE NHS TRUST   \n",
       "32  BLACKPOOL TEACHING HOSPITALS NHS FOUNDATION TRUST   \n",
       "33      YEOVIL DISTRICT HOSPITAL NHS FOUNDATION TRUST   \n",
       "34  BRIGHTON AND SUSSEX UNIVERSITY HOSPITALS NHS T...   \n",
       "39             NORTH WEST ANGLIA NHS FOUNDATION TRUST   \n",
       "43                POOLE HOSPITAL NHS FOUNDATION TRUST   \n",
       "45  JAMES PAGET UNIVERSITY HOSPITALS NHS FOUNDATIO...   \n",
       "\n",
       "    Number of A&E attendances Type 1  \n",
       "7                               7136  \n",
       "12                              9432  \n",
       "25                             10922  \n",
       "27                              3743  \n",
       "32                              5916  \n",
       "33                              4773  \n",
       "34                             13574  \n",
       "39                             13366  \n",
       "43                              5687  \n",
       "45                              6465  "
      ]
     },
     "execution_count": 70,
     "metadata": {},
     "output_type": "execute_result"
    }
   ],
   "source": [
    "type1_filtered.head(10)"
   ]
  },
  {
   "cell_type": "markdown",
   "metadata": {},
   "source": [
    "<div class=\"alert alert-success\">\n",
    "    <strong>Note:</strong> If you click on the little up and down arrows in the table above in the column headings next to the number of attendances, you can order the table in ascending or descending results.\n",
    "</div>"
   ]
  },
  {
   "cell_type": "markdown",
   "metadata": {
    "solution2": "hidden",
    "solution2_first": true
   },
   "source": [
    "<div class=\"alert alert-block alert-info\">\n",
    "<b>Task 2:</b>\n",
    "<br> \n",
    "    1. How many rows does the <code>type1_filtered</code> dataset have now? (<strong>Hint:</strong> use the <code>len()</code> function)<br>\n",
    "    2. Using the code above, try filtering the data for <code>Type 2</code> admissions.<br>\n",
    "    3. Display the data using the <code>head()</code> function.\n",
    "</div>"
   ]
  },
  {
   "cell_type": "code",
   "execution_count": 71,
   "metadata": {
    "solution2": "hidden"
   },
   "outputs": [
    {
     "data": {
      "text/plain": [
       "133"
      ]
     },
     "execution_count": 71,
     "metadata": {},
     "output_type": "execute_result"
    }
   ],
   "source": [
    "len(type1_filtered)"
   ]
  },
  {
   "cell_type": "code",
   "execution_count": 72,
   "metadata": {
    "solution2": "hidden"
   },
   "outputs": [],
   "source": [
    "type2 = ae_dataset[[\"Org name\", \"Number of A&E attendances Type 2\"]]"
   ]
  },
  {
   "cell_type": "code",
   "execution_count": 73,
   "metadata": {
    "solution2": "hidden"
   },
   "outputs": [
    {
     "data": {
      "text/html": [
       "<div>\n",
       "<style scoped>\n",
       "    .dataframe tbody tr th:only-of-type {\n",
       "        vertical-align: middle;\n",
       "    }\n",
       "\n",
       "    .dataframe tbody tr th {\n",
       "        vertical-align: top;\n",
       "    }\n",
       "\n",
       "    .dataframe thead th {\n",
       "        text-align: right;\n",
       "    }\n",
       "</style>\n",
       "<table border=\"1\" class=\"dataframe\">\n",
       "  <thead>\n",
       "    <tr style=\"text-align: right;\">\n",
       "      <th></th>\n",
       "      <th>Org name</th>\n",
       "      <th>Number of A&amp;E attendances Type 2</th>\n",
       "    </tr>\n",
       "  </thead>\n",
       "  <tbody>\n",
       "    <tr>\n",
       "      <th>0</th>\n",
       "      <td>NOTTINGHAM CITYCARE PARTNERSHIP</td>\n",
       "      <td>0</td>\n",
       "    </tr>\n",
       "    <tr>\n",
       "      <th>1</th>\n",
       "      <td>QUEEN VICTORIA HOSPITAL NHS FOUNDATION TRUST</td>\n",
       "      <td>0</td>\n",
       "    </tr>\n",
       "    <tr>\n",
       "      <th>2</th>\n",
       "      <td>WOKING WALK IN CENTRE</td>\n",
       "      <td>0</td>\n",
       "    </tr>\n",
       "    <tr>\n",
       "      <th>3</th>\n",
       "      <td>ASHFORD WALK-IN-CENTRE</td>\n",
       "      <td>0</td>\n",
       "    </tr>\n",
       "    <tr>\n",
       "      <th>4</th>\n",
       "      <td>PUTNOE MEDICAL CENTRE WALK IN CENTRE</td>\n",
       "      <td>0</td>\n",
       "    </tr>\n",
       "  </tbody>\n",
       "</table>\n",
       "</div>"
      ],
      "text/plain": [
       "                                       Org name  \\\n",
       "0               NOTTINGHAM CITYCARE PARTNERSHIP   \n",
       "1  QUEEN VICTORIA HOSPITAL NHS FOUNDATION TRUST   \n",
       "2                         WOKING WALK IN CENTRE   \n",
       "3                        ASHFORD WALK-IN-CENTRE   \n",
       "4          PUTNOE MEDICAL CENTRE WALK IN CENTRE   \n",
       "\n",
       "   Number of A&E attendances Type 2  \n",
       "0                                 0  \n",
       "1                                 0  \n",
       "2                                 0  \n",
       "3                                 0  \n",
       "4                                 0  "
      ]
     },
     "execution_count": 73,
     "metadata": {},
     "output_type": "execute_result"
    }
   ],
   "source": [
    "type2.head()"
   ]
  },
  {
   "cell_type": "code",
   "execution_count": null,
   "metadata": {},
   "outputs": [],
   "source": []
  },
  {
   "cell_type": "code",
   "execution_count": null,
   "metadata": {},
   "outputs": [],
   "source": []
  },
  {
   "cell_type": "code",
   "execution_count": null,
   "metadata": {},
   "outputs": [],
   "source": []
  },
  {
   "cell_type": "markdown",
   "metadata": {
    "solution2": "hidden",
    "solution2_first": true
   },
   "source": [
    "<div class=\"alert alert-block alert-info\">\n",
    "<b>Task 3:</b>\n",
    "<br> \n",
    "1. Filter the results for Task 2 for admissions greater than zero.<br>\n",
    "    2. Display the data using the <code>head()</code> function.\n",
    "</div>"
   ]
  },
  {
   "cell_type": "code",
   "execution_count": 74,
   "metadata": {
    "solution2": "hidden"
   },
   "outputs": [],
   "source": [
    "gt_zero_admissions = type2[\"Number of A&E attendances Type 2\"] > 0"
   ]
  },
  {
   "cell_type": "code",
   "execution_count": 75,
   "metadata": {
    "solution2": "hidden"
   },
   "outputs": [],
   "source": [
    "type2_filtered = type2[gt_zero_admissions]"
   ]
  },
  {
   "cell_type": "code",
   "execution_count": 76,
   "metadata": {
    "solution2": "hidden"
   },
   "outputs": [
    {
     "data": {
      "text/html": [
       "<div>\n",
       "<style scoped>\n",
       "    .dataframe tbody tr th:only-of-type {\n",
       "        vertical-align: middle;\n",
       "    }\n",
       "\n",
       "    .dataframe tbody tr th {\n",
       "        vertical-align: top;\n",
       "    }\n",
       "\n",
       "    .dataframe thead th {\n",
       "        text-align: right;\n",
       "    }\n",
       "</style>\n",
       "<table border=\"1\" class=\"dataframe\">\n",
       "  <thead>\n",
       "    <tr style=\"text-align: right;\">\n",
       "      <th></th>\n",
       "      <th>Org name</th>\n",
       "      <th>Number of A&amp;E attendances Type 2</th>\n",
       "    </tr>\n",
       "  </thead>\n",
       "  <tbody>\n",
       "    <tr>\n",
       "      <th>12</th>\n",
       "      <td>NORTH MIDDLESEX UNIVERSITY HOSPITAL NHS TRUST</td>\n",
       "      <td>496</td>\n",
       "    </tr>\n",
       "    <tr>\n",
       "      <th>34</th>\n",
       "      <td>BRIGHTON AND SUSSEX UNIVERSITY HOSPITALS NHS T...</td>\n",
       "      <td>1226</td>\n",
       "    </tr>\n",
       "    <tr>\n",
       "      <th>49</th>\n",
       "      <td>BEDFORD HOSPITAL NHS TRUST</td>\n",
       "      <td>788</td>\n",
       "    </tr>\n",
       "    <tr>\n",
       "      <th>54</th>\n",
       "      <td>BUCKINGHAMSHIRE HEALTHCARE NHS TRUST</td>\n",
       "      <td>1271</td>\n",
       "    </tr>\n",
       "    <tr>\n",
       "      <th>60</th>\n",
       "      <td>SANDWELL AND WEST BIRMINGHAM HOSPITALS NHS TRUST</td>\n",
       "      <td>1122</td>\n",
       "    </tr>\n",
       "  </tbody>\n",
       "</table>\n",
       "</div>"
      ],
      "text/plain": [
       "                                             Org name  \\\n",
       "12      NORTH MIDDLESEX UNIVERSITY HOSPITAL NHS TRUST   \n",
       "34  BRIGHTON AND SUSSEX UNIVERSITY HOSPITALS NHS T...   \n",
       "49                         BEDFORD HOSPITAL NHS TRUST   \n",
       "54               BUCKINGHAMSHIRE HEALTHCARE NHS TRUST   \n",
       "60   SANDWELL AND WEST BIRMINGHAM HOSPITALS NHS TRUST   \n",
       "\n",
       "    Number of A&E attendances Type 2  \n",
       "12                               496  \n",
       "34                              1226  \n",
       "49                               788  \n",
       "54                              1271  \n",
       "60                              1122  "
      ]
     },
     "execution_count": 76,
     "metadata": {},
     "output_type": "execute_result"
    }
   ],
   "source": [
    "type2_filtered.head()"
   ]
  },
  {
   "cell_type": "code",
   "execution_count": null,
   "metadata": {},
   "outputs": [],
   "source": []
  },
  {
   "cell_type": "code",
   "execution_count": null,
   "metadata": {},
   "outputs": [],
   "source": []
  },
  {
   "cell_type": "code",
   "execution_count": null,
   "metadata": {},
   "outputs": [],
   "source": []
  },
  {
   "cell_type": "code",
   "execution_count": null,
   "metadata": {},
   "outputs": [],
   "source": []
  },
  {
   "cell_type": "markdown",
   "metadata": {},
   "source": [
    "<div class=\"alert alert-success\">\n",
    "    <strong>Note:</strong> To subset by groups, there is a useful <code>groupby()</code> function. If you want to see some examples, have a look at <a href=\"https://www.geeksforgeeks.org/pandas-groupby/\" target=\"_blank\">this</a>. \n",
    "</div>"
   ]
  },
  {
   "cell_type": "markdown",
   "metadata": {},
   "source": [
    "There is also the ability to generate some plots (graphs/charts) of the data in a given dataframe. Below we can see an example of a bar plot on the filtered data for type 1 admissions."
   ]
  },
  {
   "cell_type": "code",
   "execution_count": 77,
   "metadata": {},
   "outputs": [],
   "source": [
    "type1_filtered.plot.bar();"
   ]
  },
  {
   "cell_type": "markdown",
   "metadata": {
    "solution2": "hidden",
    "solution2_first": true
   },
   "source": [
    "<div class=\"alert alert-block alert-info\">\n",
    "<b>Task 4:</b>\n",
    "<br> \n",
    "With reference to the very high value on the right of the plot:<br>\n",
    "1. Look at the original data to try and determine where this very high value is coming from.<br/>\n",
    "    2. <strong>Hint:</strong> use the <code>tail()</code> function that works like the <code>head()</code> but shows the last few records instead of the first few.\n",
    "</div>"
   ]
  },
  {
   "cell_type": "code",
   "execution_count": 78,
   "metadata": {
    "solution2": "hidden"
   },
   "outputs": [
    {
     "data": {
      "text/html": [
       "<div>\n",
       "<style scoped>\n",
       "    .dataframe tbody tr th:only-of-type {\n",
       "        vertical-align: middle;\n",
       "    }\n",
       "\n",
       "    .dataframe tbody tr th {\n",
       "        vertical-align: top;\n",
       "    }\n",
       "\n",
       "    .dataframe thead th {\n",
       "        text-align: right;\n",
       "    }\n",
       "</style>\n",
       "<table border=\"1\" class=\"dataframe\">\n",
       "  <thead>\n",
       "    <tr style=\"text-align: right;\">\n",
       "      <th></th>\n",
       "      <th>Org name</th>\n",
       "      <th>Number of A&amp;E attendances Type 1</th>\n",
       "    </tr>\n",
       "  </thead>\n",
       "  <tbody>\n",
       "    <tr>\n",
       "      <th>224</th>\n",
       "      <td>WIRRAL UNIVERSITY TEACHING HOSPITAL NHS FOUNDA...</td>\n",
       "      <td>7187</td>\n",
       "    </tr>\n",
       "    <tr>\n",
       "      <th>225</th>\n",
       "      <td>MAIDSTONE AND TUNBRIDGE WELLS NHS TRUST</td>\n",
       "      <td>13941</td>\n",
       "    </tr>\n",
       "    <tr>\n",
       "      <th>227</th>\n",
       "      <td>SHREWSBURY AND TELFORD HOSPITAL NHS TRUST</td>\n",
       "      <td>9422</td>\n",
       "    </tr>\n",
       "    <tr>\n",
       "      <th>230</th>\n",
       "      <td>FRIMLEY HEALTH NHS FOUNDATION TRUST</td>\n",
       "      <td>20216</td>\n",
       "    </tr>\n",
       "    <tr>\n",
       "      <th>231</th>\n",
       "      <td>TOTAL</td>\n",
       "      <td>1327226</td>\n",
       "    </tr>\n",
       "  </tbody>\n",
       "</table>\n",
       "</div>"
      ],
      "text/plain": [
       "                                              Org name  \\\n",
       "224  WIRRAL UNIVERSITY TEACHING HOSPITAL NHS FOUNDA...   \n",
       "225            MAIDSTONE AND TUNBRIDGE WELLS NHS TRUST   \n",
       "227          SHREWSBURY AND TELFORD HOSPITAL NHS TRUST   \n",
       "230                FRIMLEY HEALTH NHS FOUNDATION TRUST   \n",
       "231                                              TOTAL   \n",
       "\n",
       "     Number of A&E attendances Type 1  \n",
       "224                              7187  \n",
       "225                             13941  \n",
       "227                              9422  \n",
       "230                             20216  \n",
       "231                           1327226  "
      ]
     },
     "execution_count": 78,
     "metadata": {},
     "output_type": "execute_result"
    }
   ],
   "source": [
    "type1_filtered.tail()"
   ]
  },
  {
   "cell_type": "markdown",
   "metadata": {
    "solution2": "hidden"
   },
   "source": [
    "Here we can see that this is caused by a row containing totaled data. Let's go ahead and remove this final row."
   ]
  },
  {
   "cell_type": "code",
   "execution_count": null,
   "metadata": {},
   "outputs": [],
   "source": []
  },
  {
   "cell_type": "code",
   "execution_count": 79,
   "metadata": {},
   "outputs": [],
   "source": [
    "type1_filtered = type1_filtered[:-1]"
   ]
  },
  {
   "cell_type": "code",
   "execution_count": 80,
   "metadata": {},
   "outputs": [],
   "source": [
    "type1_filtered.plot.bar();"
   ]
  },
  {
   "cell_type": "markdown",
   "metadata": {},
   "source": [
    "There is still a lot of data here. Let's take a look at the top 10 with the <code>nlargest</code> function."
   ]
  },
  {
   "cell_type": "code",
   "execution_count": 81,
   "metadata": {},
   "outputs": [],
   "source": [
    "top_ten = type1_filtered.nlargest(10, \"Number of A&E attendances Type 1\")"
   ]
  },
  {
   "cell_type": "code",
   "execution_count": 82,
   "metadata": {},
   "outputs": [],
   "source": [
    "top_ten.plot.bar(x=\"Org name\");"
   ]
  },
  {
   "cell_type": "markdown",
   "metadata": {},
   "source": [
    "<div class=\"alert alert-block alert-info\">\n",
    "<b>Task 5:</b>\n",
    "<br> \n",
    "Now let's look at a different dataset which we will revisit several times today. This is the <code>pima-indians-diabetes</code> <a href=\"https://www.kaggle.com/kumargh/pimaindiansdiabetescsv/data\" target=\"_blank\">dataset</a> from Kaggle. Click on the dataset link above and read the description of the data fields (columns) in the section called <code>About this file</code> so that you understand what sort of data is contained in the dataset.\n",
    "</div>"
   ]
  },
  {
   "cell_type": "markdown",
   "metadata": {},
   "source": [
    "Below we read in the file as a CSV file again and display the first few records with the <code>head()</code> function."
   ]
  },
  {
   "cell_type": "code",
   "execution_count": 83,
   "metadata": {},
   "outputs": [
    {
     "data": {
      "text/html": [
       "<div>\n",
       "<style scoped>\n",
       "    .dataframe tbody tr th:only-of-type {\n",
       "        vertical-align: middle;\n",
       "    }\n",
       "\n",
       "    .dataframe tbody tr th {\n",
       "        vertical-align: top;\n",
       "    }\n",
       "\n",
       "    .dataframe thead th {\n",
       "        text-align: right;\n",
       "    }\n",
       "</style>\n",
       "<table border=\"1\" class=\"dataframe\">\n",
       "  <thead>\n",
       "    <tr style=\"text-align: right;\">\n",
       "      <th></th>\n",
       "      <th>Pregnancies</th>\n",
       "      <th>Glucose</th>\n",
       "      <th>BloodPressure</th>\n",
       "      <th>SkinThickness</th>\n",
       "      <th>Insulin</th>\n",
       "      <th>BMI</th>\n",
       "      <th>DiabetesPedigreeFunction</th>\n",
       "      <th>Age</th>\n",
       "      <th>Class</th>\n",
       "    </tr>\n",
       "  </thead>\n",
       "  <tbody>\n",
       "    <tr>\n",
       "      <th>0</th>\n",
       "      <td>1</td>\n",
       "      <td>85</td>\n",
       "      <td>66</td>\n",
       "      <td>29</td>\n",
       "      <td>0</td>\n",
       "      <td>26.6</td>\n",
       "      <td>0.351</td>\n",
       "      <td>31</td>\n",
       "      <td>0</td>\n",
       "    </tr>\n",
       "    <tr>\n",
       "      <th>1</th>\n",
       "      <td>8</td>\n",
       "      <td>183</td>\n",
       "      <td>64</td>\n",
       "      <td>0</td>\n",
       "      <td>0</td>\n",
       "      <td>23.3</td>\n",
       "      <td>0.672</td>\n",
       "      <td>32</td>\n",
       "      <td>1</td>\n",
       "    </tr>\n",
       "    <tr>\n",
       "      <th>2</th>\n",
       "      <td>1</td>\n",
       "      <td>89</td>\n",
       "      <td>66</td>\n",
       "      <td>23</td>\n",
       "      <td>94</td>\n",
       "      <td>28.1</td>\n",
       "      <td>0.167</td>\n",
       "      <td>21</td>\n",
       "      <td>0</td>\n",
       "    </tr>\n",
       "    <tr>\n",
       "      <th>3</th>\n",
       "      <td>0</td>\n",
       "      <td>137</td>\n",
       "      <td>40</td>\n",
       "      <td>35</td>\n",
       "      <td>168</td>\n",
       "      <td>43.1</td>\n",
       "      <td>2.288</td>\n",
       "      <td>33</td>\n",
       "      <td>1</td>\n",
       "    </tr>\n",
       "    <tr>\n",
       "      <th>4</th>\n",
       "      <td>5</td>\n",
       "      <td>116</td>\n",
       "      <td>74</td>\n",
       "      <td>0</td>\n",
       "      <td>0</td>\n",
       "      <td>25.6</td>\n",
       "      <td>0.201</td>\n",
       "      <td>30</td>\n",
       "      <td>0</td>\n",
       "    </tr>\n",
       "    <tr>\n",
       "      <th>5</th>\n",
       "      <td>3</td>\n",
       "      <td>78</td>\n",
       "      <td>50</td>\n",
       "      <td>32</td>\n",
       "      <td>88</td>\n",
       "      <td>31.0</td>\n",
       "      <td>0.248</td>\n",
       "      <td>26</td>\n",
       "      <td>1</td>\n",
       "    </tr>\n",
       "    <tr>\n",
       "      <th>6</th>\n",
       "      <td>10</td>\n",
       "      <td>115</td>\n",
       "      <td>0</td>\n",
       "      <td>0</td>\n",
       "      <td>0</td>\n",
       "      <td>35.3</td>\n",
       "      <td>0.134</td>\n",
       "      <td>29</td>\n",
       "      <td>0</td>\n",
       "    </tr>\n",
       "    <tr>\n",
       "      <th>7</th>\n",
       "      <td>2</td>\n",
       "      <td>197</td>\n",
       "      <td>70</td>\n",
       "      <td>45</td>\n",
       "      <td>543</td>\n",
       "      <td>30.5</td>\n",
       "      <td>0.158</td>\n",
       "      <td>53</td>\n",
       "      <td>1</td>\n",
       "    </tr>\n",
       "    <tr>\n",
       "      <th>8</th>\n",
       "      <td>8</td>\n",
       "      <td>125</td>\n",
       "      <td>96</td>\n",
       "      <td>0</td>\n",
       "      <td>0</td>\n",
       "      <td>0.0</td>\n",
       "      <td>0.232</td>\n",
       "      <td>54</td>\n",
       "      <td>1</td>\n",
       "    </tr>\n",
       "    <tr>\n",
       "      <th>9</th>\n",
       "      <td>4</td>\n",
       "      <td>110</td>\n",
       "      <td>92</td>\n",
       "      <td>0</td>\n",
       "      <td>0</td>\n",
       "      <td>37.6</td>\n",
       "      <td>0.191</td>\n",
       "      <td>30</td>\n",
       "      <td>0</td>\n",
       "    </tr>\n",
       "  </tbody>\n",
       "</table>\n",
       "</div>"
      ],
      "text/plain": [
       "   Pregnancies  Glucose  BloodPressure  SkinThickness  Insulin   BMI  \\\n",
       "0            1       85             66             29        0  26.6   \n",
       "1            8      183             64              0        0  23.3   \n",
       "2            1       89             66             23       94  28.1   \n",
       "3            0      137             40             35      168  43.1   \n",
       "4            5      116             74              0        0  25.6   \n",
       "5            3       78             50             32       88  31.0   \n",
       "6           10      115              0              0        0  35.3   \n",
       "7            2      197             70             45      543  30.5   \n",
       "8            8      125             96              0        0   0.0   \n",
       "9            4      110             92              0        0  37.6   \n",
       "\n",
       "   DiabetesPedigreeFunction  Age  Class  \n",
       "0                     0.351   31      0  \n",
       "1                     0.672   32      1  \n",
       "2                     0.167   21      0  \n",
       "3                     2.288   33      1  \n",
       "4                     0.201   30      0  \n",
       "5                     0.248   26      1  \n",
       "6                     0.134   29      0  \n",
       "7                     0.158   53      1  \n",
       "8                     0.232   54      1  \n",
       "9                     0.191   30      0  "
      ]
     },
     "execution_count": 83,
     "metadata": {},
     "output_type": "execute_result"
    }
   ],
   "source": [
    "path = \"./intro_images/pima-indians-diabetes.csv\"\n",
    "data = pd.read_csv(path)\n",
    "data.head(10)"
   ]
  },
  {
   "cell_type": "markdown",
   "metadata": {},
   "source": [
    "We can also look at some of the basic statistical properties of the data set with the <code>describe()</code> function."
   ]
  },
  {
   "cell_type": "code",
   "execution_count": 84,
   "metadata": {},
   "outputs": [
    {
     "data": {
      "text/html": [
       "<div>\n",
       "<style scoped>\n",
       "    .dataframe tbody tr th:only-of-type {\n",
       "        vertical-align: middle;\n",
       "    }\n",
       "\n",
       "    .dataframe tbody tr th {\n",
       "        vertical-align: top;\n",
       "    }\n",
       "\n",
       "    .dataframe thead th {\n",
       "        text-align: right;\n",
       "    }\n",
       "</style>\n",
       "<table border=\"1\" class=\"dataframe\">\n",
       "  <thead>\n",
       "    <tr style=\"text-align: right;\">\n",
       "      <th></th>\n",
       "      <th>Pregnancies</th>\n",
       "      <th>Glucose</th>\n",
       "      <th>BloodPressure</th>\n",
       "      <th>SkinThickness</th>\n",
       "      <th>Insulin</th>\n",
       "      <th>BMI</th>\n",
       "      <th>DiabetesPedigreeFunction</th>\n",
       "      <th>Age</th>\n",
       "      <th>Class</th>\n",
       "    </tr>\n",
       "  </thead>\n",
       "  <tbody>\n",
       "    <tr>\n",
       "      <th>count</th>\n",
       "      <td>767.000000</td>\n",
       "      <td>767.000000</td>\n",
       "      <td>767.000000</td>\n",
       "      <td>767.000000</td>\n",
       "      <td>767.000000</td>\n",
       "      <td>767.000000</td>\n",
       "      <td>767.000000</td>\n",
       "      <td>767.000000</td>\n",
       "      <td>767.000000</td>\n",
       "    </tr>\n",
       "    <tr>\n",
       "      <th>mean</th>\n",
       "      <td>3.842243</td>\n",
       "      <td>120.859192</td>\n",
       "      <td>69.101695</td>\n",
       "      <td>20.517601</td>\n",
       "      <td>79.903520</td>\n",
       "      <td>31.990482</td>\n",
       "      <td>0.471674</td>\n",
       "      <td>33.219035</td>\n",
       "      <td>0.348110</td>\n",
       "    </tr>\n",
       "    <tr>\n",
       "      <th>std</th>\n",
       "      <td>3.370877</td>\n",
       "      <td>31.978468</td>\n",
       "      <td>19.368155</td>\n",
       "      <td>15.954059</td>\n",
       "      <td>115.283105</td>\n",
       "      <td>7.889091</td>\n",
       "      <td>0.331497</td>\n",
       "      <td>11.752296</td>\n",
       "      <td>0.476682</td>\n",
       "    </tr>\n",
       "    <tr>\n",
       "      <th>min</th>\n",
       "      <td>0.000000</td>\n",
       "      <td>0.000000</td>\n",
       "      <td>0.000000</td>\n",
       "      <td>0.000000</td>\n",
       "      <td>0.000000</td>\n",
       "      <td>0.000000</td>\n",
       "      <td>0.078000</td>\n",
       "      <td>21.000000</td>\n",
       "      <td>0.000000</td>\n",
       "    </tr>\n",
       "    <tr>\n",
       "      <th>25%</th>\n",
       "      <td>1.000000</td>\n",
       "      <td>99.000000</td>\n",
       "      <td>62.000000</td>\n",
       "      <td>0.000000</td>\n",
       "      <td>0.000000</td>\n",
       "      <td>27.300000</td>\n",
       "      <td>0.243500</td>\n",
       "      <td>24.000000</td>\n",
       "      <td>0.000000</td>\n",
       "    </tr>\n",
       "    <tr>\n",
       "      <th>50%</th>\n",
       "      <td>3.000000</td>\n",
       "      <td>117.000000</td>\n",
       "      <td>72.000000</td>\n",
       "      <td>23.000000</td>\n",
       "      <td>32.000000</td>\n",
       "      <td>32.000000</td>\n",
       "      <td>0.371000</td>\n",
       "      <td>29.000000</td>\n",
       "      <td>0.000000</td>\n",
       "    </tr>\n",
       "    <tr>\n",
       "      <th>75%</th>\n",
       "      <td>6.000000</td>\n",
       "      <td>140.000000</td>\n",
       "      <td>80.000000</td>\n",
       "      <td>32.000000</td>\n",
       "      <td>127.500000</td>\n",
       "      <td>36.600000</td>\n",
       "      <td>0.625000</td>\n",
       "      <td>41.000000</td>\n",
       "      <td>1.000000</td>\n",
       "    </tr>\n",
       "    <tr>\n",
       "      <th>max</th>\n",
       "      <td>17.000000</td>\n",
       "      <td>199.000000</td>\n",
       "      <td>122.000000</td>\n",
       "      <td>99.000000</td>\n",
       "      <td>846.000000</td>\n",
       "      <td>67.100000</td>\n",
       "      <td>2.420000</td>\n",
       "      <td>81.000000</td>\n",
       "      <td>1.000000</td>\n",
       "    </tr>\n",
       "  </tbody>\n",
       "</table>\n",
       "</div>"
      ],
      "text/plain": [
       "       Pregnancies     Glucose  BloodPressure  SkinThickness     Insulin  \\\n",
       "count   767.000000  767.000000     767.000000     767.000000  767.000000   \n",
       "mean      3.842243  120.859192      69.101695      20.517601   79.903520   \n",
       "std       3.370877   31.978468      19.368155      15.954059  115.283105   \n",
       "min       0.000000    0.000000       0.000000       0.000000    0.000000   \n",
       "25%       1.000000   99.000000      62.000000       0.000000    0.000000   \n",
       "50%       3.000000  117.000000      72.000000      23.000000   32.000000   \n",
       "75%       6.000000  140.000000      80.000000      32.000000  127.500000   \n",
       "max      17.000000  199.000000     122.000000      99.000000  846.000000   \n",
       "\n",
       "              BMI  DiabetesPedigreeFunction         Age       Class  \n",
       "count  767.000000                767.000000  767.000000  767.000000  \n",
       "mean    31.990482                  0.471674   33.219035    0.348110  \n",
       "std      7.889091                  0.331497   11.752296    0.476682  \n",
       "min      0.000000                  0.078000   21.000000    0.000000  \n",
       "25%     27.300000                  0.243500   24.000000    0.000000  \n",
       "50%     32.000000                  0.371000   29.000000    0.000000  \n",
       "75%     36.600000                  0.625000   41.000000    1.000000  \n",
       "max     67.100000                  2.420000   81.000000    1.000000  "
      ]
     },
     "execution_count": 84,
     "metadata": {},
     "output_type": "execute_result"
    }
   ],
   "source": [
    "data.describe()"
   ]
  },
  {
   "cell_type": "markdown",
   "metadata": {},
   "source": [
    "We may also want to see if there is any <a href=\"https://www.bmj.com/about-bmj/resources-readers/publications/statistics-square-one/11-correlation-and-regression\" target=\"_blank\">correlation</a> between any of our variables to measure the strength of relationship. We can view this using the <code>corr()</code> function from the <code>numpy</code> (numerical Python) library. Here we choose the <code>Pearson</code> correlation coefficient. There is more information on correlation in the notebook about Linear Regression. "
   ]
  },
  {
   "cell_type": "code",
   "execution_count": 85,
   "metadata": {},
   "outputs": [
    {
     "data": {
      "text/html": [
       "<div>\n",
       "<style scoped>\n",
       "    .dataframe tbody tr th:only-of-type {\n",
       "        vertical-align: middle;\n",
       "    }\n",
       "\n",
       "    .dataframe tbody tr th {\n",
       "        vertical-align: top;\n",
       "    }\n",
       "\n",
       "    .dataframe thead th {\n",
       "        text-align: right;\n",
       "    }\n",
       "</style>\n",
       "<table border=\"1\" class=\"dataframe\">\n",
       "  <thead>\n",
       "    <tr style=\"text-align: right;\">\n",
       "      <th></th>\n",
       "      <th>Pregnancies</th>\n",
       "      <th>Glucose</th>\n",
       "      <th>BloodPressure</th>\n",
       "      <th>SkinThickness</th>\n",
       "      <th>Insulin</th>\n",
       "      <th>BMI</th>\n",
       "      <th>DiabetesPedigreeFunction</th>\n",
       "      <th>Age</th>\n",
       "      <th>Class</th>\n",
       "    </tr>\n",
       "  </thead>\n",
       "  <tbody>\n",
       "    <tr>\n",
       "      <th>Pregnancies</th>\n",
       "      <td>1.000000</td>\n",
       "      <td>0.128846</td>\n",
       "      <td>0.141197</td>\n",
       "      <td>-0.082495</td>\n",
       "      <td>-0.072999</td>\n",
       "      <td>0.017518</td>\n",
       "      <td>-0.033927</td>\n",
       "      <td>0.544018</td>\n",
       "      <td>0.221087</td>\n",
       "    </tr>\n",
       "    <tr>\n",
       "      <th>Glucose</th>\n",
       "      <td>0.128846</td>\n",
       "      <td>1.000000</td>\n",
       "      <td>0.152498</td>\n",
       "      <td>0.056381</td>\n",
       "      <td>0.332383</td>\n",
       "      <td>0.220955</td>\n",
       "      <td>0.136903</td>\n",
       "      <td>0.262408</td>\n",
       "      <td>0.465856</td>\n",
       "    </tr>\n",
       "    <tr>\n",
       "      <th>BloodPressure</th>\n",
       "      <td>0.141197</td>\n",
       "      <td>0.152498</td>\n",
       "      <td>1.000000</td>\n",
       "      <td>0.207308</td>\n",
       "      <td>0.089098</td>\n",
       "      <td>0.281777</td>\n",
       "      <td>0.041180</td>\n",
       "      <td>0.239571</td>\n",
       "      <td>0.064882</td>\n",
       "    </tr>\n",
       "    <tr>\n",
       "      <th>SkinThickness</th>\n",
       "      <td>-0.082495</td>\n",
       "      <td>0.056381</td>\n",
       "      <td>0.207308</td>\n",
       "      <td>1.000000</td>\n",
       "      <td>0.437974</td>\n",
       "      <td>0.392553</td>\n",
       "      <td>0.183498</td>\n",
       "      <td>-0.115873</td>\n",
       "      <td>0.073265</td>\n",
       "    </tr>\n",
       "    <tr>\n",
       "      <th>Insulin</th>\n",
       "      <td>-0.072999</td>\n",
       "      <td>0.332383</td>\n",
       "      <td>0.089098</td>\n",
       "      <td>0.437974</td>\n",
       "      <td>1.000000</td>\n",
       "      <td>0.198111</td>\n",
       "      <td>0.185579</td>\n",
       "      <td>-0.040942</td>\n",
       "      <td>0.131984</td>\n",
       "    </tr>\n",
       "    <tr>\n",
       "      <th>BMI</th>\n",
       "      <td>0.017518</td>\n",
       "      <td>0.220955</td>\n",
       "      <td>0.281777</td>\n",
       "      <td>0.392553</td>\n",
       "      <td>0.198111</td>\n",
       "      <td>1.000000</td>\n",
       "      <td>0.140546</td>\n",
       "      <td>0.035911</td>\n",
       "      <td>0.292695</td>\n",
       "    </tr>\n",
       "    <tr>\n",
       "      <th>DiabetesPedigreeFunction</th>\n",
       "      <td>-0.033927</td>\n",
       "      <td>0.136903</td>\n",
       "      <td>0.041180</td>\n",
       "      <td>0.183498</td>\n",
       "      <td>0.185579</td>\n",
       "      <td>0.140546</td>\n",
       "      <td>1.000000</td>\n",
       "      <td>0.032738</td>\n",
       "      <td>0.173245</td>\n",
       "    </tr>\n",
       "    <tr>\n",
       "      <th>Age</th>\n",
       "      <td>0.544018</td>\n",
       "      <td>0.262408</td>\n",
       "      <td>0.239571</td>\n",
       "      <td>-0.115873</td>\n",
       "      <td>-0.040942</td>\n",
       "      <td>0.035911</td>\n",
       "      <td>0.032738</td>\n",
       "      <td>1.000000</td>\n",
       "      <td>0.236417</td>\n",
       "    </tr>\n",
       "    <tr>\n",
       "      <th>Class</th>\n",
       "      <td>0.221087</td>\n",
       "      <td>0.465856</td>\n",
       "      <td>0.064882</td>\n",
       "      <td>0.073265</td>\n",
       "      <td>0.131984</td>\n",
       "      <td>0.292695</td>\n",
       "      <td>0.173245</td>\n",
       "      <td>0.236417</td>\n",
       "      <td>1.000000</td>\n",
       "    </tr>\n",
       "  </tbody>\n",
       "</table>\n",
       "</div>"
      ],
      "text/plain": [
       "                          Pregnancies   Glucose  BloodPressure  SkinThickness  \\\n",
       "Pregnancies                  1.000000  0.128846       0.141197      -0.082495   \n",
       "Glucose                      0.128846  1.000000       0.152498       0.056381   \n",
       "BloodPressure                0.141197  0.152498       1.000000       0.207308   \n",
       "SkinThickness               -0.082495  0.056381       0.207308       1.000000   \n",
       "Insulin                     -0.072999  0.332383       0.089098       0.437974   \n",
       "BMI                          0.017518  0.220955       0.281777       0.392553   \n",
       "DiabetesPedigreeFunction    -0.033927  0.136903       0.041180       0.183498   \n",
       "Age                          0.544018  0.262408       0.239571      -0.115873   \n",
       "Class                        0.221087  0.465856       0.064882       0.073265   \n",
       "\n",
       "                           Insulin       BMI  DiabetesPedigreeFunction  \\\n",
       "Pregnancies              -0.072999  0.017518                 -0.033927   \n",
       "Glucose                   0.332383  0.220955                  0.136903   \n",
       "BloodPressure             0.089098  0.281777                  0.041180   \n",
       "SkinThickness             0.437974  0.392553                  0.183498   \n",
       "Insulin                   1.000000  0.198111                  0.185579   \n",
       "BMI                       0.198111  1.000000                  0.140546   \n",
       "DiabetesPedigreeFunction  0.185579  0.140546                  1.000000   \n",
       "Age                      -0.040942  0.035911                  0.032738   \n",
       "Class                     0.131984  0.292695                  0.173245   \n",
       "\n",
       "                               Age     Class  \n",
       "Pregnancies               0.544018  0.221087  \n",
       "Glucose                   0.262408  0.465856  \n",
       "BloodPressure             0.239571  0.064882  \n",
       "SkinThickness            -0.115873  0.073265  \n",
       "Insulin                  -0.040942  0.131984  \n",
       "BMI                       0.035911  0.292695  \n",
       "DiabetesPedigreeFunction  0.032738  0.173245  \n",
       "Age                       1.000000  0.236417  \n",
       "Class                     0.236417  1.000000  "
      ]
     },
     "execution_count": 85,
     "metadata": {},
     "output_type": "execute_result"
    }
   ],
   "source": [
    "import numpy as np\n",
    "corr_data = data.corr(method=\"pearson\")\n",
    "corr_data"
   ]
  },
  {
   "cell_type": "markdown",
   "metadata": {},
   "source": [
    "[Return to top](#top)\n",
    "\n",
    "\n",
    "----------------\n",
    "\n",
    "\n",
    "<a id=\"datavisualisation\"></a>\n",
    "\n",
    "\n",
    "## Visualising data"
   ]
  },
  {
   "cell_type": "markdown",
   "metadata": {},
   "source": [
    "We can visualise data to better understand its structure and to find any relationships between variables in the dataset.\n",
    "We could start by looking at the dispersion and variability of the data with a <code>boxplot</code>."
   ]
  },
  {
   "cell_type": "code",
   "execution_count": 86,
   "metadata": {},
   "outputs": [],
   "source": [
    "data.plot.box(rot=90);"
   ]
  },
  {
   "cell_type": "markdown",
   "metadata": {},
   "source": [
    "<img src=\"./intro_images/bp.png\" align=\"left\" />"
   ]
  },
  {
   "cell_type": "markdown",
   "metadata": {},
   "source": [
    "<strong>Source:</strong> towardsdatascience.com"
   ]
  },
  {
   "cell_type": "markdown",
   "metadata": {},
   "source": [
    "<div class=\"alert alert-success\">\n",
    "<strong>Note:</strong> To see an example of why visualising data is so important, have a look at <code>Anscombe's quartet</code>. Here is a <a href=\"https://en.wikipedia.org/wiki/Anscombe%27s_quartet\" target=\"_blank\">link</a>.\n",
    "</div>"
   ]
  },
  {
   "cell_type": "markdown",
   "metadata": {},
   "source": [
    "Using a different library for plotting data called <code>seaborn</code>, we can create a <code>pairs</code> plot to compare all the variables against one another. This can be very useful for visualising relationships between variables."
   ]
  },
  {
   "cell_type": "code",
   "execution_count": 87,
   "metadata": {},
   "outputs": [],
   "source": [
    "import seaborn as sns\n",
    "sns.pairplot(data, hue='Class');"
   ]
  },
  {
   "cell_type": "markdown",
   "metadata": {},
   "source": [
    "Here we have changed the colour <code>hue</code> to represent the different class (either has diabetes 1, or does not have diabetes 0)"
   ]
  },
  {
   "cell_type": "markdown",
   "metadata": {},
   "source": [
    "Another useful plotting library that you may come across is <code>matplotlib</code>."
   ]
  },
  {
   "cell_type": "code",
   "execution_count": 88,
   "metadata": {},
   "outputs": [],
   "source": [
    "%matplotlib inline\n",
    "import matplotlib\n",
    "import matplotlib.pyplot as plt\n",
    "from matplotlib.colors import ListedColormap"
   ]
  },
  {
   "cell_type": "markdown",
   "metadata": {},
   "source": [
    "We can use this library to create a single <code>scatter</code> plot for two variables. In this case <code>Glucose</code> and <code>BMI</code> <a href=\"https://www.nhs.uk/live-well/healthy-weight/bmi-calculator/\" target=\"_blank\">(Body Mass Index)</a>. "
   ]
  },
  {
   "cell_type": "code",
   "execution_count": 89,
   "metadata": {},
   "outputs": [
    {
     "data": {
      "image/png": "[encoded data removed]",
      "text/plain": [
       "<Figure size 432x288 with 1 Axes>"
      ]
     },
     "metadata": {
      "needs_background": "light"
     },
     "output_type": "display_data"
    }
   ],
   "source": [
    "plt.scatter(data['Glucose'], data['BMI'], c=data['Class']);"
   ]
  },
  {
   "cell_type": "markdown",
   "metadata": {},
   "source": [
    "For this plot to make sense, we need to add some additional information like axis labels and a legend."
   ]
  },
  {
   "cell_type": "code",
   "execution_count": 90,
   "metadata": {},
   "outputs": [
    {
     "data": {
      "image/png": "[encoded data removed]",
      "text/plain": [
       "<Figure size 432x288 with 1 Axes>"
      ]
     },
     "metadata": {
      "needs_background": "light"
     },
     "output_type": "display_data"
    }
   ],
   "source": [
    "# add some colours \n",
    "colours = ListedColormap(['#3886BC','#FF7F0F'])\n",
    "\n",
    "# label the classes so they make sense\n",
    "classes = ['No diabetes','Diabetes']\n",
    "\n",
    "# create the scatter plot\n",
    "scatter = plt.scatter(data['Glucose'], data['BMI'], c=data['Class'], cmap=colours);\n",
    "\n",
    "# add some axis label text\n",
    "plt.xlabel('Glucose');\n",
    "plt.ylabel('BMI');\n",
    "\n",
    "# finally add a legend for the classes\n",
    "plt.legend(handles=scatter.legend_elements()[0], labels=classes);"
   ]
  },
  {
   "cell_type": "markdown",
   "metadata": {},
   "source": [
    "<div class=\"alert alert-success\">\n",
    "    <strong>Note:</strong> The hash <code>#</code> character is used in Python to denote a comment. Comments are not run by the interpreter and are for adding notes/explanations to code. Python also has multi-line comments that can be placed between two sets of triple speech marks i.e. <code>\"\"\" This is multiline comment. \"\"\"</code>.\n",
    "</div>"
   ]
  },
  {
   "cell_type": "markdown",
   "metadata": {
    "solution2": "hidden",
    "solution2_first": true
   },
   "source": [
    "<div class=\"alert alert-block alert-info\">\n",
    "<b>Task 6:</b>\n",
    "<br> \n",
    "Create scatterplot like the one above for <code>Glucose</code> and <code>Blood pressure</code>.<br>\n",
    "</div>"
   ]
  },
  {
   "cell_type": "code",
   "execution_count": 91,
   "metadata": {
    "solution2": "hidden"
   },
   "outputs": [
    {
     "data": {
      "image/png": "[encoded data removed]",
      "text/plain": [
       "<Figure size 432x288 with 1 Axes>"
      ]
     },
     "metadata": {
      "needs_background": "light"
     },
     "output_type": "display_data"
    }
   ],
   "source": [
    "# add some colours \n",
    "colours = ListedColormap(['#3886BC','#FF7F0F'])\n",
    "\n",
    "# label the classes so they make sense\n",
    "classes = ['No diabetes','Diabetes']\n",
    "\n",
    "# create the scatter plot\n",
    "scatter = plt.scatter(data['Glucose'], data['BloodPressure'], c=data['Class'], cmap=colours);\n",
    "\n",
    "# add some axis label text\n",
    "plt.xlabel('Glucose');\n",
    "plt.ylabel('Blood pressure');\n",
    "\n",
    "# finally add a legend for the classes\n",
    "plt.legend(handles=scatter.legend_elements()[0], labels=classes);"
   ]
  },
  {
   "cell_type": "code",
   "execution_count": null,
   "metadata": {},
   "outputs": [],
   "source": []
  },
  {
   "cell_type": "markdown",
   "metadata": {},
   "source": [
    "Let's see how may cases are labeled as having and not having diabetes. Remember 0 = no diabetes and 1 = diabetes."
   ]
  },
  {
   "cell_type": "code",
   "execution_count": 92,
   "metadata": {},
   "outputs": [
    {
     "name": "stdout",
     "output_type": "stream",
     "text": [
      "Number of cases labeled as NOT having diabetes = 500\n",
      "Number of cases labeled as having diabetes = 267\n"
     ]
    }
   ],
   "source": [
    "# get a (True/False) list of all the diabetes labels for filtering \n",
    "no = data['Class'] == 0\n",
    "yes = data['Class'] == 1\n",
    "\n",
    "# now count the number times they are labeled as 0 and 1\n",
    "no_diabetes = data['Class'][no].count()\n",
    "diabetes = data['Class'][yes].count()\n",
    "\n",
    "# lets output these values\n",
    "print(\"Number of cases labeled as NOT having diabetes =\",no_diabetes)\n",
    "print(\"Number of cases labeled as having diabetes =\",diabetes)"
   ]
  },
  {
   "cell_type": "markdown",
   "metadata": {
    "solution2": "hidden",
    "solution2_first": true
   },
   "source": [
    "<div class=\"alert alert-block alert-info\">\n",
    "<b>Task 7:</b>\n",
    "<br> \n",
    "    Given this information, display these results with a bar plot using the <code>plt.bar()</code> function.<br>\n",
    "<strong>Hint:</strong> You may want to use following information:<br><br>\n",
    "<code>class_labels = ['No diabetes','Diabetes']</code><br>\n",
    "<code>classes = [no_diabetes, diabetes]</code>\n",
    "</div>"
   ]
  },
  {
   "cell_type": "code",
   "execution_count": 93,
   "metadata": {
    "solution2": "hidden"
   },
   "outputs": [
    {
     "data": {
      "image/png": "[encoded data removed]",
      "text/plain": [
       "<Figure size 432x288 with 1 Axes>"
      ]
     },
     "metadata": {
      "needs_background": "light"
     },
     "output_type": "display_data"
    }
   ],
   "source": [
    "class_labels = ['No diabetes','Diabetes']\n",
    "classes = [no_diabetes, diabetes]\n",
    "plt.bar(class_labels, classes);"
   ]
  },
  {
   "cell_type": "code",
   "execution_count": null,
   "metadata": {},
   "outputs": [],
   "source": []
  },
  {
   "cell_type": "markdown",
   "metadata": {},
   "source": [
    "[Return to top](#top)\n",
    "\n",
    "------------\n",
    "\n",
    "\n",
    "<a id=\"datadistribution\"></a>\n",
    "\n",
    "## Data Distribution and Transformation"
   ]
  },
  {
   "cell_type": "markdown",
   "metadata": {},
   "source": [
    "The distribution of data can effect the subsequent analysis that can be carried out on the data. Certain statistical tests rely on assumptions, such as the data following a <code>normal</code> distribution (sometimes called a bell curve). The code below produces a <code>density</code> plot showing the <code>standard normal</code> distribution. We can use the Probability Density Function (PDF) in the <code>scipy</code> library to do this with a mean of 0 and a standard deviation (SD) of 1."
   ]
  },
  {
   "cell_type": "code",
   "execution_count": 94,
   "metadata": {},
   "outputs": [
    {
     "data": {
      "image/png": "[encoded data removed]",
      "text/plain": [
       "<Figure size 432x288 with 1 Axes>"
      ]
     },
     "metadata": {
      "needs_background": "light"
     },
     "output_type": "display_data"
    }
   ],
   "source": [
    "from scipy.stats import norm\n",
    "dist = np.linspace(-3,3,1000)\n",
    "plt.plot(dist, norm.pdf(dist,0,1))\n",
    "plt.xlabel(\"Values\")\n",
    "plt.ylabel(\"Density\")\n",
    "plt.show();"
   ]
  },
  {
   "cell_type": "markdown",
   "metadata": {},
   "source": [
    "Visualisation of your data is a good way to see what the distribution of that data looks like. More information on common data distributions can be seen <a href=\"https://www.analyticsvidhya.com/blog/2017/09/6-probability-distributions-data-science/\" target=\"_blank\">here</a>. "
   ]
  },
  {
   "cell_type": "markdown",
   "metadata": {},
   "source": [
    "<div class=\"alert alert-success\">\n",
    "<strong>Note:</strong> Other methods for exploring normal distribution of data include:<br>\n",
    "    <ul>\n",
    "        <li>Looking at the Skew and Kurtosis</li>\n",
    "        <li>Plotting a histogram</li>\n",
    "        <li>A density plot</li>\n",
    "        <li>A QQ (Quantile-Quantile) plot</li>\n",
    "        <li>Using a statistical test i.e. Shapiro-Wilk test</li>\n",
    "    </ul>\n",
    "    <br />\n",
    "    It is often useful to use a combination of these methods to test for normality in a dataset.\n",
    "</div>"
   ]
  },
  {
   "cell_type": "markdown",
   "metadata": {},
   "source": [
    "We already saw how can plot the distribution of data using the <code>pairplot</code> function from the <code>seaborn</code> library earlier. We can also produce histograms of our data using the built in <code>pandas</code> function <code>hist()</code> like so:"
   ]
  },
  {
   "cell_type": "code",
   "execution_count": 95,
   "metadata": {},
   "outputs": [
    {
     "data": {
      "image/png": "[encoded data removed]",
      "text/plain": [
       "<Figure size 432x288 with 9 Axes>"
      ]
     },
     "metadata": {
      "needs_background": "light"
     },
     "output_type": "display_data"
    }
   ],
   "source": [
    "data.hist();"
   ]
  },
  {
   "cell_type": "markdown",
   "metadata": {},
   "source": [
    "If our data is normally distributed it is said to be <code>parametric</code>, otherwise it is <code>nonparametric</code>. To deal with this as well as for dealing with outliers, we can use a <code>transformation</code>. The idea is that we maintain the relationship between variables while changing the overall unit of measure. "
   ]
  },
  {
   "cell_type": "code",
   "execution_count": 96,
   "metadata": {},
   "outputs": [
    {
     "data": {
      "image/png": "[encoded data removed]",
      "text/plain": [
       "<Figure size 432x288 with 1 Axes>"
      ]
     },
     "metadata": {
      "needs_background": "light"
     },
     "output_type": "display_data"
    }
   ],
   "source": [
    "from scipy.stats import skewnorm\n",
    "dist = np.linspace(-3,6,1000)\n",
    "plt.plot(dist, skewnorm.pdf(dist,0,1))\n",
    "plt.xlabel(\"Values\")\n",
    "plt.ylabel(\"Density\")\n",
    "plt.show();"
   ]
  },
  {
   "cell_type": "markdown",
   "metadata": {},
   "source": [
    "The following plot shows negatively skewed data. You can determine a positive or negative skew by looking at the tail of the distribution. If the tail is pointing to the lower end of the numbers (to the left) then it is negatively skewed. If the tail points to the right it is positively skewed."
   ]
  },
  {
   "cell_type": "code",
   "execution_count": 97,
   "metadata": {},
   "outputs": [
    {
     "data": {
      "image/png": "[encoded data removed]",
      "text/plain": [
       "<Figure size 432x288 with 1 Axes>"
      ]
     },
     "metadata": {
      "needs_background": "light"
     },
     "output_type": "display_data"
    }
   ],
   "source": [
    "random = skewnorm.rvs(a=-5,loc=100,size=10000)  \n",
    "random = random - min(random)      \n",
    "random = random / max(random)      \n",
    "random = random * 100         \n",
    "plt.hist(random,30,density=True)\n",
    "plt.show()"
   ]
  },
  {
   "cell_type": "markdown",
   "metadata": {},
   "source": [
    "This next plot shows positively skewed data."
   ]
  },
  {
   "cell_type": "code",
   "execution_count": 98,
   "metadata": {},
   "outputs": [
    {
     "data": {
      "image/png": "[encoded data removed]",
      "text/plain": [
       "<Figure size 432x288 with 1 Axes>"
      ]
     },
     "metadata": {
      "needs_background": "light"
     },
     "output_type": "display_data"
    }
   ],
   "source": [
    "random = skewnorm.rvs(a=5,loc=100,size=10000)  \n",
    "random = random - min(random)      \n",
    "random = random / max(random)      \n",
    "random = random * 100        \n",
    "plt.hist(random,30,density=True)\n",
    "plt.show()"
   ]
  },
  {
   "cell_type": "markdown",
   "metadata": {},
   "source": [
    "Transforming data refers to applying a mathematical function to the data to try and normalise the data. Three commonly used transformations include the <code>log transformation</code> $\\text{log}(x_i)$, <code>square root transformation</code> $\\sqrt{x_i}$, <code>reciprocal transformation</code> $\\frac{1}{x_i}$. These 3 methods will help to deal with data that is positively skewed and also with unequal variance in the data. To deal with negatively skewed data one must first <code>reverse score</code> the data and then run one of aforementioned transformations. For more detailed information on how to transform skewed data see this towards data science article <a href=\"https://towardsdatascience.com/transforming-skewed-data-73da4c2d0d16\" target=\"_blank\">Transforming Skewed Data</a>."
   ]
  },
  {
   "cell_type": "markdown",
   "metadata": {},
   "source": [
    "[Return to top](#top)\n",
    "\n",
    "\n",
    "------------\n",
    "\n",
    "\n",
    "\n",
    "<a id=\"missingvalues\"></a>\n",
    "\n",
    "## Missing Values"
   ]
  },
  {
   "cell_type": "markdown",
   "metadata": {},
   "source": [
    "Missing values in data can cause many issues including biasing the data, reducing the representativeness of the sample and reducing statistical power. There are two useful functions for dealing with missing data in Python in the pandas library. These are <code>dropna()</code> which removes rows with any columns that have NA or null data values. The second is <code>fillna()</code> which will replace NA and null values with some value. For example the average value in the data i.e. <code>df.fillna(df.mean())</code>. We use these functions in the notebook about Linear Regression if you want to see an example with real data."
   ]
  },
  {
   "cell_type": "markdown",
   "metadata": {},
   "source": [
    "If you want to learn more about dealing with missing values, have a look at this paper: <a href=\"https://www.ncbi.nlm.nih.gov/pmc/articles/PMC3668100/\" target=\"_blank\">The prevention and handling of the missing data</a>."
   ]
  },
  {
   "cell_type": "markdown",
   "metadata": {},
   "source": [
    "<div class=\"alert alert-success\">\n",
    "<strong>Note:</strong> When working with data, you should check/consider the following things:<br>\n",
    "    <ul>\n",
    "        <li>Are there any missing data?</li>\n",
    "        <li>What data types the data represent (e.g. categorical, ordinal etc.). For more information see <a href=\"https://towardsdatascience.com/data-types-in-statistics-347e152e8bee\" target=\"_blank\">Types of data</a>.</li>\n",
    "        <li>That the data are not mislabeled or inconsistent</li>\n",
    "        <li>The amount of data and its dimensions (rows/columns) of the dataset</li>\n",
    "        <li>Metadata about the data set (e.g. a data dictionary to define what the columns represent)</li>\n",
    "        <li>The quality of the data, it it good enough to run an analysis? (garbage in = garbage out)</li>\n",
    "        <li>How you intend to analyse it (what are your questions and which tools/techniques will you use)</li>\n",
    "        <li>The distribution of the data (as this may determine which methods you can apply)</li>\n",
    "        <li>Do we need to apply any transformations to the data before we start working with it</li>\n",
    "        <li>Do we need to convert the data from <a href=\"https://www.theanalysisfactor.com/wide-and-long-data/\" target=\"_blank\">wide to long format</a> or the other way around?</li>\n",
    "        <li>How are we going to manage outliers that may skew the results of our analysis?</li>\n",
    "    </ul>\n",
    "</div>"
   ]
  },
  {
   "cell_type": "markdown",
   "metadata": {},
   "source": [
    "[Return to top](#top)\n",
    "\n",
    "\n",
    "----------------\n",
    "\n",
    "<a id=\"scikit\"></a>\n",
    "\n",
    "## Introducing Scikit-learn"
   ]
  },
  {
   "cell_type": "markdown",
   "metadata": {},
   "source": [
    "As mentioned previously, Python has many libraries that have already been written for us. This is also true for Machine Learning and is one of the reasons we chose Python for this workshop. The Machine Learning libraries work in a very similar way to one another making it easier to switch between different algorithms. So far we have looked at some essential skills used to process data which we need to use regardless of the machine learning algorithms we go on to use. The Python library that we will be using in the rest of this workshop is called <code>scikit-learn</code>. You can see the website <a href=\"https://scikit-learn.org/stable/\" target=\"_blank\">Here</a>."
   ]
  },
  {
   "cell_type": "markdown",
   "metadata": {},
   "source": [
    "If you recall, we said earlier that in Machine Learning we often split the data into features <code>X</code> and labels <code>y</code>. We can do this easily with a technique called <code>integer location indexing</code>. This is where we can use numbers to represent the column names in our dataset. These numbers range from <code>0</code> to the number of columns. If we recall the dataset."
   ]
  },
  {
   "cell_type": "code",
   "execution_count": 99,
   "metadata": {},
   "outputs": [
    {
     "data": {
      "text/html": [
       "<div>\n",
       "<style scoped>\n",
       "    .dataframe tbody tr th:only-of-type {\n",
       "        vertical-align: middle;\n",
       "    }\n",
       "\n",
       "    .dataframe tbody tr th {\n",
       "        vertical-align: top;\n",
       "    }\n",
       "\n",
       "    .dataframe thead th {\n",
       "        text-align: right;\n",
       "    }\n",
       "</style>\n",
       "<table border=\"1\" class=\"dataframe\">\n",
       "  <thead>\n",
       "    <tr style=\"text-align: right;\">\n",
       "      <th></th>\n",
       "      <th>Pregnancies</th>\n",
       "      <th>Glucose</th>\n",
       "      <th>BloodPressure</th>\n",
       "      <th>SkinThickness</th>\n",
       "      <th>Insulin</th>\n",
       "      <th>BMI</th>\n",
       "      <th>DiabetesPedigreeFunction</th>\n",
       "      <th>Age</th>\n",
       "      <th>Class</th>\n",
       "    </tr>\n",
       "  </thead>\n",
       "  <tbody>\n",
       "    <tr>\n",
       "      <th>0</th>\n",
       "      <td>1</td>\n",
       "      <td>85</td>\n",
       "      <td>66</td>\n",
       "      <td>29</td>\n",
       "      <td>0</td>\n",
       "      <td>26.6</td>\n",
       "      <td>0.351</td>\n",
       "      <td>31</td>\n",
       "      <td>0</td>\n",
       "    </tr>\n",
       "    <tr>\n",
       "      <th>1</th>\n",
       "      <td>8</td>\n",
       "      <td>183</td>\n",
       "      <td>64</td>\n",
       "      <td>0</td>\n",
       "      <td>0</td>\n",
       "      <td>23.3</td>\n",
       "      <td>0.672</td>\n",
       "      <td>32</td>\n",
       "      <td>1</td>\n",
       "    </tr>\n",
       "    <tr>\n",
       "      <th>2</th>\n",
       "      <td>1</td>\n",
       "      <td>89</td>\n",
       "      <td>66</td>\n",
       "      <td>23</td>\n",
       "      <td>94</td>\n",
       "      <td>28.1</td>\n",
       "      <td>0.167</td>\n",
       "      <td>21</td>\n",
       "      <td>0</td>\n",
       "    </tr>\n",
       "    <tr>\n",
       "      <th>3</th>\n",
       "      <td>0</td>\n",
       "      <td>137</td>\n",
       "      <td>40</td>\n",
       "      <td>35</td>\n",
       "      <td>168</td>\n",
       "      <td>43.1</td>\n",
       "      <td>2.288</td>\n",
       "      <td>33</td>\n",
       "      <td>1</td>\n",
       "    </tr>\n",
       "    <tr>\n",
       "      <th>4</th>\n",
       "      <td>5</td>\n",
       "      <td>116</td>\n",
       "      <td>74</td>\n",
       "      <td>0</td>\n",
       "      <td>0</td>\n",
       "      <td>25.6</td>\n",
       "      <td>0.201</td>\n",
       "      <td>30</td>\n",
       "      <td>0</td>\n",
       "    </tr>\n",
       "  </tbody>\n",
       "</table>\n",
       "</div>"
      ],
      "text/plain": [
       "   Pregnancies  Glucose  BloodPressure  SkinThickness  Insulin   BMI  \\\n",
       "0            1       85             66             29        0  26.6   \n",
       "1            8      183             64              0        0  23.3   \n",
       "2            1       89             66             23       94  28.1   \n",
       "3            0      137             40             35      168  43.1   \n",
       "4            5      116             74              0        0  25.6   \n",
       "\n",
       "   DiabetesPedigreeFunction  Age  Class  \n",
       "0                     0.351   31      0  \n",
       "1                     0.672   32      1  \n",
       "2                     0.167   21      0  \n",
       "3                     2.288   33      1  \n",
       "4                     0.201   30      0  "
      ]
     },
     "execution_count": 99,
     "metadata": {},
     "output_type": "execute_result"
    }
   ],
   "source": [
    "data.head()"
   ]
  },
  {
   "cell_type": "markdown",
   "metadata": {},
   "source": [
    "We can extract the features by using numbers to get all rows and then all but the last column (our labels)."
   ]
  },
  {
   "cell_type": "code",
   "execution_count": 100,
   "metadata": {},
   "outputs": [],
   "source": [
    "X = data.iloc[:, 0:-1].values"
   ]
  },
  {
   "cell_type": "code",
   "execution_count": 101,
   "metadata": {},
   "outputs": [
    {
     "data": {
      "text/plain": [
       "array([[1.00e+00, 8.50e+01, 6.60e+01, ..., 2.66e+01, 3.51e-01, 3.10e+01],\n",
       "       [8.00e+00, 1.83e+02, 6.40e+01, ..., 2.33e+01, 6.72e-01, 3.20e+01],\n",
       "       [1.00e+00, 8.90e+01, 6.60e+01, ..., 2.81e+01, 1.67e-01, 2.10e+01],\n",
       "       ...,\n",
       "       [5.00e+00, 1.21e+02, 7.20e+01, ..., 2.62e+01, 2.45e-01, 3.00e+01],\n",
       "       [1.00e+00, 1.26e+02, 6.00e+01, ..., 3.01e+01, 3.49e-01, 4.70e+01],\n",
       "       [1.00e+00, 9.30e+01, 7.00e+01, ..., 3.04e+01, 3.15e-01, 2.30e+01]])"
      ]
     },
     "execution_count": 101,
     "metadata": {},
     "output_type": "execute_result"
    }
   ],
   "source": [
    "X"
   ]
  },
  {
   "cell_type": "markdown",
   "metadata": {},
   "source": [
    "This has extracted the feature data in a format (a matrix) suitable for processing by our machine learning algorithms."
   ]
  },
  {
   "cell_type": "markdown",
   "metadata": {},
   "source": [
    "Now lets extract the labels. Here we will get all rows and just the last column."
   ]
  },
  {
   "cell_type": "code",
   "execution_count": 102,
   "metadata": {},
   "outputs": [],
   "source": [
    "y = data.iloc[:, -1].values"
   ]
  },
  {
   "cell_type": "code",
   "execution_count": 103,
   "metadata": {},
   "outputs": [
    {
     "data": {
      "text/plain": [
       "array([0, 1, 0, 1, 0, 1, 0, 1, 1, 0, 1, 0, 1, 1, 1, 1, 1, 0, 1, 0, 0, 1,\n",
       "       1, 1, 1, 1, 0, 0, 0, 0, 1, 0, 0, 0, 0, 0, 1, 1, 1, 0, 0, 0, 1, 0,\n",
       "       1, 0, 0, 1, 0, 0, 0, 0, 1, 0, 0, 1, 0, 0, 0, 0, 1, 0, 0, 1, 0, 1,\n",
       "       0, 0, 0, 1, 0, 1, 0, 0, 0, 0, 0, 1, 0, 0, 0, 0, 0, 1, 0, 0, 0, 1,\n",
       "       0, 0, 0, 0, 1, 0, 0, 0, 0, 0, 1, 1, 0, 0, 0, 0, 0, 0, 0, 0, 1, 1,\n",
       "       1, 0, 0, 1, 1, 1, 0, 0, 0, 1, 0, 0, 0, 1, 1, 0, 0, 1, 1, 1, 1, 1,\n",
       "       0, 0, 0, 0, 0, 0, 0, 0, 0, 0, 1, 0, 0, 0, 0, 0, 0, 0, 0, 1, 0, 1,\n",
       "       1, 0, 0, 0, 1, 0, 0, 0, 0, 1, 1, 0, 0, 0, 0, 1, 1, 0, 0, 0, 1, 0,\n",
       "       1, 0, 1, 0, 0, 0, 0, 0, 1, 1, 1, 1, 1, 0, 0, 1, 1, 0, 1, 0, 1, 1,\n",
       "       1, 0, 0, 0, 0, 0, 0, 1, 1, 0, 1, 0, 0, 0, 1, 1, 1, 1, 0, 1, 1, 1,\n",
       "       1, 0, 0, 0, 0, 0, 1, 0, 0, 1, 1, 0, 0, 0, 1, 1, 1, 1, 0, 0, 0, 1,\n",
       "       1, 0, 1, 0, 0, 0, 0, 0, 0, 0, 0, 1, 1, 0, 0, 0, 1, 0, 1, 0, 0, 1,\n",
       "       0, 1, 0, 0, 1, 1, 0, 0, 0, 0, 0, 1, 0, 0, 0, 1, 0, 0, 1, 1, 0, 0,\n",
       "       1, 0, 0, 0, 1, 1, 1, 0, 0, 1, 0, 1, 0, 1, 1, 0, 1, 0, 0, 1, 0, 1,\n",
       "       1, 0, 0, 1, 0, 1, 0, 0, 1, 0, 1, 0, 1, 1, 1, 0, 0, 1, 0, 1, 0, 0,\n",
       "       0, 1, 0, 0, 0, 0, 1, 1, 1, 0, 0, 0, 0, 0, 0, 0, 0, 0, 1, 0, 0, 0,\n",
       "       0, 0, 1, 1, 1, 0, 1, 1, 0, 0, 1, 0, 0, 1, 0, 0, 1, 1, 0, 0, 0, 0,\n",
       "       1, 0, 0, 1, 0, 0, 0, 0, 0, 0, 0, 1, 1, 1, 0, 0, 1, 0, 0, 1, 0, 0,\n",
       "       1, 0, 1, 1, 0, 1, 0, 1, 0, 1, 0, 1, 1, 0, 0, 0, 0, 1, 1, 0, 1, 0,\n",
       "       1, 0, 0, 0, 0, 1, 1, 0, 1, 0, 1, 0, 0, 0, 0, 0, 1, 0, 0, 0, 0, 1,\n",
       "       0, 0, 1, 1, 1, 0, 0, 1, 0, 0, 1, 0, 0, 0, 1, 0, 0, 1, 0, 0, 0, 0,\n",
       "       0, 0, 0, 0, 0, 1, 0, 0, 0, 0, 0, 0, 0, 1, 0, 0, 0, 1, 0, 0, 0, 1,\n",
       "       1, 0, 0, 0, 0, 0, 0, 0, 1, 0, 0, 0, 0, 1, 0, 0, 0, 1, 0, 0, 0, 1,\n",
       "       0, 0, 0, 1, 0, 0, 0, 0, 1, 1, 0, 0, 0, 0, 0, 0, 1, 0, 0, 0, 0, 0,\n",
       "       0, 0, 0, 0, 0, 0, 1, 0, 0, 0, 1, 1, 1, 1, 0, 0, 1, 1, 0, 0, 0, 0,\n",
       "       0, 0, 0, 0, 0, 0, 0, 0, 0, 1, 1, 0, 0, 0, 0, 0, 0, 0, 1, 0, 0, 0,\n",
       "       0, 0, 0, 0, 1, 0, 1, 1, 0, 0, 0, 1, 0, 1, 0, 1, 0, 1, 0, 1, 0, 0,\n",
       "       1, 0, 0, 1, 0, 0, 0, 0, 1, 1, 0, 1, 0, 0, 0, 0, 1, 1, 0, 1, 0, 0,\n",
       "       0, 1, 1, 0, 0, 0, 0, 0, 0, 0, 0, 0, 0, 1, 0, 0, 0, 0, 1, 0, 0, 1,\n",
       "       0, 0, 0, 1, 0, 0, 0, 1, 1, 1, 0, 0, 0, 0, 0, 0, 1, 0, 0, 0, 1, 0,\n",
       "       1, 1, 1, 1, 0, 1, 1, 0, 0, 0, 0, 0, 0, 0, 1, 1, 0, 1, 0, 0, 1, 0,\n",
       "       1, 0, 0, 0, 0, 0, 1, 0, 1, 0, 1, 0, 1, 1, 0, 0, 0, 0, 1, 1, 0, 0,\n",
       "       0, 1, 0, 1, 1, 0, 0, 1, 0, 0, 1, 1, 0, 0, 1, 0, 0, 1, 0, 0, 0, 0,\n",
       "       0, 0, 0, 1, 1, 1, 0, 0, 0, 0, 0, 0, 1, 1, 0, 0, 1, 0, 0, 1, 0, 1,\n",
       "       1, 1, 0, 0, 1, 1, 1, 0, 1, 0, 1, 0, 1, 0, 0, 0, 0, 1, 0],\n",
       "      dtype=int64)"
      ]
     },
     "execution_count": 103,
     "metadata": {},
     "output_type": "execute_result"
    }
   ],
   "source": [
    "y"
   ]
  },
  {
   "cell_type": "markdown",
   "metadata": {},
   "source": [
    "This will be a common step that we will use when using machine learning algorithms. "
   ]
  },
  {
   "cell_type": "markdown",
   "metadata": {},
   "source": [
    "[Return to top](#top)\n",
    "\n",
    "\n",
    "---------------\n",
    "\n",
    "<a id=\"Choosealgorithm\"></a>\n",
    "\n",
    "## Choosing an Algorithm"
   ]
  },
  {
   "cell_type": "markdown",
   "metadata": {},
   "source": [
    "Deciding on which Machine Learning algorithm to apply depends on several factors, including the type of data you have, the amount of data and what your aims are. scikit-learn have produced a useful cheat sheet to help you answer some of these questions. Select the link to find the sheet <a href=\"https://scikit-learn.org/stable/tutorial/machine_learning_map/index.html\" target=\"_blank\">Choosing the right estimator</a>."
   ]
  },
  {
   "cell_type": "markdown",
   "metadata": {},
   "source": [
    "[Return to top](#top)\n",
    "\n",
    "\n",
    "---------------\n",
    "<a id=\"references\"></a>\n",
    "\n",
    "## References and Further Learning\n",
    "\n",
    "Please view the next recommended notebook in this series on Machine Learning to see an application of an algorithm in action called a <code>Random Forest</code>. <a href=\"http//www.bbc.co.uk\" target=\"_blank\">Random Forrest</a>"
   ]
  },
  {
   "cell_type": "markdown",
   "metadata": {},
   "source": [
    "#### Further Reading\n",
    "\n",
    "Netherton, G. (2018) More Data, More Problems. Lean and Six Sigma Review, Nov 2018: 18(1):10-13 <a href=\"https://search.proquest.com/docview/2158109793?accountid=12253&rfr_id=info%3Axri%2Fsid%3Aprimo\" target=\"_blank\">Link to paper</a>\n",
    "\n",
    "Ekmekci, B., McAnany, C., and Mura, C. (2016) <u><i>An Introduction to Programming for Bioscientists: A Python-Based Primer</u></i> PLOS Computational Biology, June 2016: DOI:10.1371/journal.pcbi.1004867</li>\n",
    "\n",
    "------"
   ]
  },
  {
   "cell_type": "markdown",
   "metadata": {
    "cell_style": "center"
   },
   "source": [
    "### Notebook details\n",
    "<br>\n",
    "<i>Notebook created by <strong>Dr. Alan Davies</strong>.\n",
    "<br>\n",
    "&copy; Alan Davies 2021"
   ]
  },
  {
   "cell_type": "markdown",
   "metadata": {
    "hide_input": true
   },
   "source": [
    "## Notes:"
   ]
  },
  {
   "cell_type": "code",
   "execution_count": null,
   "metadata": {},
   "outputs": [],
   "source": []
  },
  {
   "cell_type": "code",
   "execution_count": null,
   "metadata": {},
   "outputs": [],
   "source": []
  }
 ],
 "metadata": {
  "celltoolbar": "Initialization Cell",
  "hide_input": false,
  "kernelspec": {
   "display_name": "Python 3",
   "language": "python",
   "name": "python3"
  },
  "language_info": {
   "codemirror_mode": {
    "name": "ipython",
    "version": 3
   },
   "file_extension": ".py",
   "mimetype": "text/x-python",
   "name": "python",
   "nbconvert_exporter": "python",
   "pygments_lexer": "ipython3",
   "version": "3.8.8"
  }
 },
 "nbformat": 4,
 "nbformat_minor": 4
}
